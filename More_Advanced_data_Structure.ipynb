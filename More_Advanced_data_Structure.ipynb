{
  "nbformat": 4,
  "nbformat_minor": 0,
  "metadata": {
    "colab": {
      "name": "More Advanced data Structure.ipynb",
      "provenance": [],
      "authorship_tag": "ABX9TyP/D1ccScJlmDCDOe8zk3mT",
      "include_colab_link": true
    },
    "kernelspec": {
      "name": "python3",
      "display_name": "Python 3"
    }
  },
  "cells": [
    {
      "cell_type": "markdown",
      "metadata": {
        "id": "view-in-github",
        "colab_type": "text"
      },
      "source": [
        "<a href=\"https://colab.research.google.com/github/MMoltira/data_viz/blob/main/More_Advanced_data_Structure.ipynb\" target=\"_parent\"><img src=\"https://colab.research.google.com/assets/colab-badge.svg\" alt=\"Open In Colab\"/></a>"
      ]
    },
    {
      "cell_type": "markdown",
      "metadata": {
        "id": "4qHmI6pHnF0o"
      },
      "source": [
        "#Dictionary\r\n",
        " สามารถ index ด้วยอะไรก็ได้ แต่ลำดับจะหายไป"
      ]
    },
    {
      "cell_type": "code",
      "metadata": {
        "id": "zfprebgPmg97"
      },
      "source": [
        "ex_dict={'a':10,'1':1,'stat':5} #curly brackets ในการบอกว่าเป็น dict"
      ],
      "execution_count": null,
      "outputs": []
    },
    {
      "cell_type": "code",
      "metadata": {
        "colab": {
          "base_uri": "https://localhost:8080/"
        },
        "id": "xDGvOeFWp1zT",
        "outputId": "1fe6949d-0f35-4a1d-ec66-9ce53d0c33a2"
      },
      "source": [
        "ex_dict['stat']"
      ],
      "execution_count": null,
      "outputs": [
        {
          "output_type": "execute_result",
          "data": {
            "text/plain": [
              "5"
            ]
          },
          "metadata": {
            "tags": []
          },
          "execution_count": 3
        }
      ]
    },
    {
      "cell_type": "code",
      "metadata": {
        "colab": {
          "base_uri": "https://localhost:8080/"
        },
        "id": "Rbp1eIwlqyyg",
        "outputId": "5b6b76a6-2754-4198-cfcb-4f66846d9304"
      },
      "source": [
        "ex_dict['a']"
      ],
      "execution_count": null,
      "outputs": [
        {
          "output_type": "execute_result",
          "data": {
            "text/plain": [
              "10"
            ]
          },
          "metadata": {
            "tags": []
          },
          "execution_count": 4
        }
      ]
    },
    {
      "cell_type": "code",
      "metadata": {
        "id": "fKE6iTSZrRcu"
      },
      "source": [
        "ex2_dict={1:'one',2:'two',3:'three'}"
      ],
      "execution_count": null,
      "outputs": []
    },
    {
      "cell_type": "code",
      "metadata": {
        "colab": {
          "base_uri": "https://localhost:8080/",
          "height": 34
        },
        "id": "witBAx7zrkxn",
        "outputId": "c3f124ab-6807-40e6-daaf-ffa342e3afd8"
      },
      "source": [
        "ex2_dict[2]"
      ],
      "execution_count": null,
      "outputs": [
        {
          "output_type": "execute_result",
          "data": {
            "application/vnd.google.colaboratory.intrinsic+json": {
              "type": "string"
            },
            "text/plain": [
              "'two'"
            ]
          },
          "metadata": {
            "tags": []
          },
          "execution_count": 10
        }
      ]
    },
    {
      "cell_type": "markdown",
      "metadata": {
        "id": "n3v56q5gr-63"
      },
      "source": [
        "คำสั่ง"
      ]
    },
    {
      "cell_type": "code",
      "metadata": {
        "colab": {
          "base_uri": "https://localhost:8080/"
        },
        "id": "3d_XL_zYsBeu",
        "outputId": "be734328-ae94-4298-e92e-26482dc68663"
      },
      "source": [
        "ex2_dict.keys()"
      ],
      "execution_count": null,
      "outputs": [
        {
          "output_type": "execute_result",
          "data": {
            "text/plain": [
              "dict_keys([1, 2, 3])"
            ]
          },
          "metadata": {
            "tags": []
          },
          "execution_count": 11
        }
      ]
    },
    {
      "cell_type": "code",
      "metadata": {
        "colab": {
          "base_uri": "https://localhost:8080/"
        },
        "id": "CVdih1G0slLk",
        "outputId": "602d768b-afe9-412a-d949-84f04d96d1f5"
      },
      "source": [
        "for index in ex2_dict.keys():\r\n",
        "  print(index)"
      ],
      "execution_count": null,
      "outputs": [
        {
          "output_type": "stream",
          "text": [
            "1\n",
            "2\n",
            "3\n"
          ],
          "name": "stdout"
        }
      ]
    },
    {
      "cell_type": "code",
      "metadata": {
        "colab": {
          "base_uri": "https://localhost:8080/"
        },
        "id": "ZaCA_YsLsykg",
        "outputId": "e72a722b-e408-4f07-86c8-dec6ae70517d"
      },
      "source": [
        "ex2_dict.values()"
      ],
      "execution_count": null,
      "outputs": [
        {
          "output_type": "execute_result",
          "data": {
            "text/plain": [
              "dict_values(['one', 'two', 'three'])"
            ]
          },
          "metadata": {
            "tags": []
          },
          "execution_count": 14
        }
      ]
    },
    {
      "cell_type": "code",
      "metadata": {
        "colab": {
          "base_uri": "https://localhost:8080/"
        },
        "id": "YenPM6yctY-A",
        "outputId": "789db67f-30c5-4fe6-dfcf-59ba80dbe953"
      },
      "source": [
        "index"
      ],
      "execution_count": null,
      "outputs": [
        {
          "output_type": "execute_result",
          "data": {
            "text/plain": [
              "3"
            ]
          },
          "metadata": {
            "tags": []
          },
          "execution_count": 15
        }
      ]
    },
    {
      "cell_type": "markdown",
      "metadata": {
        "id": "AkiyRfYut3OS"
      },
      "source": [
        "dict เอาไปใช้ร่วมกับ Datafame ของ pandas"
      ]
    },
    {
      "cell_type": "markdown",
      "metadata": {
        "id": "MHQNNGkMuGE3"
      },
      "source": [
        "###Nupy array"
      ]
    },
    {
      "cell_type": "markdown",
      "metadata": {
        "id": "mb3mnKzJt5Bh"
      },
      "source": [
        "numpy คือ package ที่ทำงานเกี่ยวกับ array ของตัวเลข (ที่มีคนเขียนขึ้นมาและนิยมใช้)\r\n",
        "\r\n",
        "numpy -> number python"
      ]
    },
    {
      "cell_type": "code",
      "metadata": {
        "id": "2nqPqMQssiOZ"
      },
      "source": [
        "import numpy #วิธีเรียกใช้งาน package"
      ],
      "execution_count": null,
      "outputs": []
    },
    {
      "cell_type": "markdown",
      "metadata": {
        "id": "K_066Wrfu117"
      },
      "source": [
        "### สร้าง numpy array "
      ]
    },
    {
      "cell_type": "code",
      "metadata": {
        "colab": {
          "base_uri": "https://localhost:8080/"
        },
        "id": "1zq0NtEMubBe",
        "outputId": "37a31429-9ecf-4f32-fbab-d46c6ce9ef05"
      },
      "source": [
        "ex_2d_array = numpy.array([[5.2,3.0,4.5],[9.1,0.1,0.3]])\r\n",
        "print(ex_2d_array)"
      ],
      "execution_count": null,
      "outputs": [
        {
          "output_type": "stream",
          "text": [
            "[[5.2 3.  4.5]\n",
            " [9.1 0.1 0.3]]\n"
          ],
          "name": "stdout"
        }
      ]
    },
    {
      "cell_type": "markdown",
      "metadata": {
        "id": "nbpUSAt-u7k0"
      },
      "source": [
        "### การชี้ค่าใน numpy array"
      ]
    },
    {
      "cell_type": "code",
      "metadata": {
        "colab": {
          "base_uri": "https://localhost:8080/"
        },
        "id": "sGlkqkzEurR6",
        "outputId": "c60c40c3-27f9-4cd1-eb3b-6a293bea8643"
      },
      "source": [
        "ex_2d_array[1,2]"
      ],
      "execution_count": null,
      "outputs": [
        {
          "output_type": "execute_result",
          "data": {
            "text/plain": [
              "0.3"
            ]
          },
          "metadata": {
            "tags": []
          },
          "execution_count": 22
        }
      ]
    },
    {
      "cell_type": "code",
      "metadata": {
        "colab": {
          "base_uri": "https://localhost:8080/"
        },
        "id": "jObxGy8MvlOD",
        "outputId": "ab5231c4-74dd-416a-d7cb-6671bb019d0b"
      },
      "source": [
        "list_x = [[5.2,3.0,4.5],[9.1,0.1,0.3]] #การชี้ list\r\n",
        "\r\n",
        "print(len(list_x))\r\n",
        "\r\n",
        "print(list_x[1])\r\n",
        "\r\n",
        "print(list_x[1][2])"
      ],
      "execution_count": null,
      "outputs": [
        {
          "output_type": "stream",
          "text": [
            "2\n",
            "[9.1, 0.1, 0.3]\n",
            "0.3\n"
          ],
          "name": "stdout"
        }
      ]
    },
    {
      "cell_type": "markdown",
      "metadata": {
        "id": "6VfhZR8Vx1n5"
      },
      "source": [
        "### Operations"
      ]
    },
    {
      "cell_type": "code",
      "metadata": {
        "colab": {
          "base_uri": "https://localhost:8080/"
        },
        "id": "sfsOuZOAv-0m",
        "outputId": "b525173c-e893-4eb9-8f1f-f92912ba4802"
      },
      "source": [
        "ex2_2d_array = numpy.array([[1,0,0],[0,0,1]])\r\n",
        "print(ex2_2d_array)\r\n",
        "print(ex_2d_array)"
      ],
      "execution_count": null,
      "outputs": [
        {
          "output_type": "stream",
          "text": [
            "[[1 0 0]\n",
            " [0 0 1]]\n",
            "[[5.2 3.  4.5]\n",
            " [9.1 0.1 0.3]]\n"
          ],
          "name": "stdout"
        }
      ]
    },
    {
      "cell_type": "code",
      "metadata": {
        "colab": {
          "base_uri": "https://localhost:8080/"
        },
        "id": "4XCICGjQyLsM",
        "outputId": "1feb2276-929a-4c83-fe04-ba3dacec47d3"
      },
      "source": [
        "ex_2d_array.shape #ตรวจสอบขนาดของ matrix"
      ],
      "execution_count": null,
      "outputs": [
        {
          "output_type": "execute_result",
          "data": {
            "text/plain": [
              "(2, 3)"
            ]
          },
          "metadata": {
            "tags": []
          },
          "execution_count": 30
        }
      ]
    },
    {
      "cell_type": "code",
      "metadata": {
        "colab": {
          "base_uri": "https://localhost:8080/"
        },
        "id": "IMTeBR9TyZtr",
        "outputId": "c1c66bfb-ee4c-41d6-f486-7b899f8a4a22"
      },
      "source": [
        "ex_2d_array + ex2_2d_array"
      ],
      "execution_count": null,
      "outputs": [
        {
          "output_type": "execute_result",
          "data": {
            "text/plain": [
              "array([[6.2, 3. , 4.5],\n",
              "       [9.1, 0.1, 1.3]])"
            ]
          },
          "metadata": {
            "tags": []
          },
          "execution_count": 31
        }
      ]
    },
    {
      "cell_type": "code",
      "metadata": {
        "colab": {
          "base_uri": "https://localhost:8080/"
        },
        "id": "ydUkD9dnyuWU",
        "outputId": "d6420dd6-07c5-4c8e-f39a-9e3fa981aa51"
      },
      "source": [
        "list_x = [[5.2,3.0,4.5],[9.1,0.1,0.3]] \r\n",
        "list_x2 = [[1,0,0],[0,0,1]]\r\n",
        "\r\n",
        "list_x + list_x2"
      ],
      "execution_count": null,
      "outputs": [
        {
          "output_type": "execute_result",
          "data": {
            "text/plain": [
              "[[5.2, 3.0, 4.5], [9.1, 0.1, 0.3], [1, 0, 0], [0, 0, 1]]"
            ]
          },
          "metadata": {
            "tags": []
          },
          "execution_count": 32
        }
      ]
    },
    {
      "cell_type": "code",
      "metadata": {
        "colab": {
          "base_uri": "https://localhost:8080/"
        },
        "id": "PbK0sB56zaTA",
        "outputId": "d9c578ef-d0b7-493a-94cf-60bb22e77548"
      },
      "source": [
        "ex_2d_array - ex2_2d_array"
      ],
      "execution_count": null,
      "outputs": [
        {
          "output_type": "execute_result",
          "data": {
            "text/plain": [
              "array([[ 4.2,  3. ,  4.5],\n",
              "       [ 9.1,  0.1, -0.7]])"
            ]
          },
          "metadata": {
            "tags": []
          },
          "execution_count": 33
        }
      ]
    },
    {
      "cell_type": "code",
      "metadata": {
        "colab": {
          "base_uri": "https://localhost:8080/"
        },
        "id": "gIBnj2Y_zvZd",
        "outputId": "e2ed5149-0a93-4952-b77e-0bbb0bdccaf3"
      },
      "source": [
        "ex_2d_array * ex2_2d_array #การคูณแบบ array เอาตำแหน่งเดียวกันมาคูณกัน"
      ],
      "execution_count": null,
      "outputs": [
        {
          "output_type": "execute_result",
          "data": {
            "text/plain": [
              "array([[5.2, 0. , 0. ],\n",
              "       [0. , 0. , 0.3]])"
            ]
          },
          "metadata": {
            "tags": []
          },
          "execution_count": 35
        }
      ]
    },
    {
      "cell_type": "markdown",
      "metadata": {
        "id": "s0DqyBzx0K_d"
      },
      "source": [
        "matix multiplication (dot product)\r\n",
        "\r\n",
        "![matrix-multiply1.gif](data:image/gif;base64,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)"
      ]
    },
    {
      "cell_type": "code",
      "metadata": {
        "colab": {
          "base_uri": "https://localhost:8080/",
          "height": 199
        },
        "id": "8uFXdWNq02P9",
        "outputId": "170fd065-2ada-4282-dd18-65553bee8cbb"
      },
      "source": [
        "numpy.dot(ex_2d_array,ex2_2d_array)"
      ],
      "execution_count": null,
      "outputs": [
        {
          "output_type": "error",
          "ename": "ValueError",
          "evalue": "ignored",
          "traceback": [
            "\u001b[0;31m---------------------------------------------------------------------------\u001b[0m",
            "\u001b[0;31mValueError\u001b[0m                                Traceback (most recent call last)",
            "\u001b[0;32m<ipython-input-36-d923e9f0df4f>\u001b[0m in \u001b[0;36m<module>\u001b[0;34m()\u001b[0m\n\u001b[0;32m----> 1\u001b[0;31m \u001b[0mnumpy\u001b[0m\u001b[0;34m.\u001b[0m\u001b[0mdot\u001b[0m\u001b[0;34m(\u001b[0m\u001b[0mex_2d_array\u001b[0m\u001b[0;34m,\u001b[0m\u001b[0mex2_2d_array\u001b[0m\u001b[0;34m)\u001b[0m\u001b[0;34m\u001b[0m\u001b[0;34m\u001b[0m\u001b[0m\n\u001b[0m",
            "\u001b[0;32m<__array_function__ internals>\u001b[0m in \u001b[0;36mdot\u001b[0;34m(*args, **kwargs)\u001b[0m\n",
            "\u001b[0;31mValueError\u001b[0m: shapes (2,3) and (2,3) not aligned: 3 (dim 1) != 2 (dim 0)"
          ]
        }
      ]
    },
    {
      "cell_type": "code",
      "metadata": {
        "colab": {
          "base_uri": "https://localhost:8080/"
        },
        "id": "Y2Q4d6-x1aru",
        "outputId": "5ca84ed5-ff5c-47ac-f0b9-24db3845497f"
      },
      "source": [
        "print(ex_2d_array)\r\n",
        "print(ex_2d_array.T)"
      ],
      "execution_count": null,
      "outputs": [
        {
          "output_type": "stream",
          "text": [
            "[[5.2 3.  4.5]\n",
            " [9.1 0.1 0.3]]\n",
            "[[5.2 9.1]\n",
            " [3.  0.1]\n",
            " [4.5 0.3]]\n"
          ],
          "name": "stdout"
        }
      ]
    },
    {
      "cell_type": "code",
      "metadata": {
        "colab": {
          "base_uri": "https://localhost:8080/"
        },
        "id": "y2-yMOMK19QX",
        "outputId": "6dbaeafc-1f38-407b-ce73-6db79ef5860a"
      },
      "source": [
        "dot_mat = numpy.dot(ex_2d_array,ex2_2d_array.T)\r\n",
        "print(dot_mat) "
      ],
      "execution_count": null,
      "outputs": [
        {
          "output_type": "stream",
          "text": [
            "[[5.2 4.5]\n",
            " [9.1 0.3]]\n"
          ],
          "name": "stdout"
        }
      ]
    },
    {
      "cell_type": "code",
      "metadata": {
        "colab": {
          "base_uri": "https://localhost:8080/"
        },
        "id": "Rumj43TD2EWV",
        "outputId": "2de8bab6-8b61-4662-b5fe-b5a201983151"
      },
      "source": [
        "numpy.linalg.det(dot_mat)"
      ],
      "execution_count": null,
      "outputs": [
        {
          "output_type": "execute_result",
          "data": {
            "text/plain": [
              "-39.389999999999986"
            ]
          },
          "metadata": {
            "tags": []
          },
          "execution_count": 40
        }
      ]
    },
    {
      "cell_type": "markdown",
      "metadata": {
        "id": "njCW_mKk3ukL"
      },
      "source": [
        "search google -> stackoverflow หรือ web ของ package สำหรับ operations อื่นๆ"
      ]
    },
    {
      "cell_type": "markdown",
      "metadata": {
        "id": "n3ZVwPCP4IRh"
      },
      "source": [
        "## matrix slicing"
      ]
    },
    {
      "cell_type": "code",
      "metadata": {
        "colab": {
          "base_uri": "https://localhost:8080/"
        },
        "id": "8fqRT0R-5j1S",
        "outputId": "d5a1b050-e422-4ec4-c799-aeb11952c8e1"
      },
      "source": [
        "print(ex_2d_array)\r\n"
      ],
      "execution_count": null,
      "outputs": [
        {
          "output_type": "stream",
          "text": [
            "[[5.2 3.  4.5]\n",
            " [9.1 0.1 0.3]]\n"
          ],
          "name": "stdout"
        }
      ]
    },
    {
      "cell_type": "code",
      "metadata": {
        "colab": {
          "base_uri": "https://localhost:8080/"
        },
        "id": "m7LVp0Yb5VtP",
        "outputId": "556be1eb-7260-4c2b-e8b8-03577f692e43"
      },
      "source": [
        "ex_2d_array[1,1:]"
      ],
      "execution_count": null,
      "outputs": [
        {
          "output_type": "execute_result",
          "data": {
            "text/plain": [
              "array([0.1, 0.3])"
            ]
          },
          "metadata": {
            "tags": []
          },
          "execution_count": 43
        }
      ]
    },
    {
      "cell_type": "code",
      "metadata": {
        "colab": {
          "base_uri": "https://localhost:8080/"
        },
        "id": "LcTQDiyO52jk",
        "outputId": "a79e6688-e8b2-441a-a3d3-5f15fa46d6ab"
      },
      "source": [
        "ex_2d_array[:,:2]"
      ],
      "execution_count": null,
      "outputs": [
        {
          "output_type": "execute_result",
          "data": {
            "text/plain": [
              "array([[5.2, 3. ],\n",
              "       [9.1, 0.1]])"
            ]
          },
          "metadata": {
            "tags": []
          },
          "execution_count": 44
        }
      ]
    },
    {
      "cell_type": "markdown",
      "metadata": {
        "id": "EDl8PLOa6DMO"
      },
      "source": [
        "จบวันที่ 14 Jan 2021"
      ]
    },
    {
      "cell_type": "markdown",
      "metadata": {
        "id": "AwcOuOT74W92"
      },
      "source": [
        "HW 5 เขียน function คูณ matrix\r\n",
        "\r\n",
        "แล้ว test กับ matrix ขนาด\r\n",
        "\r\n",
        "- (2,3)*(3,2)\r\n",
        "- (4,4)*(4,1)\r\n",
        "- (2,2)*(2,2)"
      ]
    },
    {
      "cell_type": "code",
      "metadata": {
        "id": "2cCHfmzA866b"
      },
      "source": [
        "import numpy as np"
      ],
      "execution_count": null,
      "outputs": []
    },
    {
      "cell_type": "code",
      "metadata": {
        "id": "Cqs9bEhk3XJy"
      },
      "source": [
        "#(2,3) A\r\n",
        "A = np.array([[5.4,3.5,0.0],[6.4,1.8,4.3]]) \r\n",
        "#(3,2) B\r\n",
        "B = np.array([[4.9,5.6],[9.3,8.2],[6.3,96]])\r\n",
        "#(4,4) C\r\n",
        "C = np.array([[8.5,4.3,9.6,7.8],[6.5,5.3,8.8,4.4],[8.6,8.9,7.5,9.9],[5.6,8.4,1.5,1.8]])\r\n",
        "#(4,1) D\r\n",
        "D = np.array([[5.0],[5.6],[9.4],[5.5]])\r\n",
        "#(2,2) E\r\n",
        "E = np.array([[1.1,1.1],[1.1,1.1]])\r\n",
        "#(2,2) F\r\n",
        "F = np.array([[4.6,6.4],[4.4,6.6]])"
      ],
      "execution_count": null,
      "outputs": []
    },
    {
      "cell_type": "code",
      "metadata": {
        "colab": {
          "base_uri": "https://localhost:8080/"
        },
        "id": "lSi7tNBFDuV_",
        "outputId": "2e325b61-2400-4785-faeb-40f39b214dcb"
      },
      "source": [
        "print(f'A = {A}\\n\\n\\\r\n",
        "B = {B}\\n\\n\\\r\n",
        "C = {C}\\n\\n\\\r\n",
        "D = {D}\\n\\n\\\r\n",
        "E = {E}\\n\\n\\\r\n",
        "F = {F}\\n')"
      ],
      "execution_count": null,
      "outputs": [
        {
          "output_type": "stream",
          "text": [
            "A = [[5.4 3.5 0. ]\n",
            " [6.4 1.8 4.3]]\n",
            "\n",
            "B = [[ 4.9  5.6]\n",
            " [ 9.3  8.2]\n",
            " [ 6.3 96. ]]\n",
            "\n",
            "C = [[8.5 4.3 9.6 7.8]\n",
            " [6.5 5.3 8.8 4.4]\n",
            " [8.6 8.9 7.5 9.9]\n",
            " [5.6 8.4 1.5 1.8]]\n",
            "\n",
            "D = [[5. ]\n",
            " [5.6]\n",
            " [9.4]\n",
            " [5.5]]\n",
            "\n",
            "E = [[1.1 1.1]\n",
            " [1.1 1.1]]\n",
            "\n",
            "F = [[4.6 6.4]\n",
            " [4.4 6.6]]\n",
            "\n"
          ],
          "name": "stdout"
        }
      ]
    },
    {
      "cell_type": "markdown",
      "metadata": {
        "id": "iz7SiFswGto8"
      },
      "source": [
        "####ฟังก์ชั่นการหาผลคูณ matrix"
      ]
    },
    {
      "cell_type": "markdown",
      "metadata": {
        "id": "DFP6h38JG8KW"
      },
      "source": [
        "หา\r\n",
        "```\r\n",
        "1. AB\r\n",
        "2. CD\r\n",
        "3. EF\r\n",
        "```\r\n",
        "\r\n",
        "![images.png](data:image/png;base64,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)"
      ]
    },
    {
      "cell_type": "code",
      "metadata": {
        "id": "XM7tWt2fFGhH"
      },
      "source": [
        "def mul_metrix(x,y):\r\n",
        "  if x.shape[1] == y.shape[0]:\r\n",
        "    result = [] \r\n",
        "    for i in range(x.shape[0]): #หลัก\r\n",
        "      row_list =[]\r\n",
        "      for j in range(y.shape[1]): #แถว\r\n",
        "        mul_list = x[i,:]*y[:,j]\r\n",
        "        sum = 0\r\n",
        "        for k in mul_list:\r\n",
        "          sum += k\r\n",
        "        row_list.append(sum)\r\n",
        "      result.append(row_list)\r\n",
        "    return  np.array(result)\r\n",
        "  else:\r\n",
        "    return 'Matrix ทั้งสองไม่สามารถคูณกันได้'"
      ],
      "execution_count": null,
      "outputs": []
    },
    {
      "cell_type": "markdown",
      "metadata": {
        "id": "H6Ob8_s_pBPN"
      },
      "source": [
        "ข้อที่ 1"
      ]
    },
    {
      "cell_type": "code",
      "metadata": {
        "colab": {
          "base_uri": "https://localhost:8080/"
        },
        "id": "ypQPSi8PlHYR",
        "outputId": "35d9a51b-b8ac-428c-c49b-3ab8401826a9"
      },
      "source": [
        "mul_metrix(A,B)"
      ],
      "execution_count": null,
      "outputs": [
        {
          "output_type": "execute_result",
          "data": {
            "text/plain": [
              "array([[ 59.01,  58.94],\n",
              "       [ 75.19, 463.4 ]])"
            ]
          },
          "metadata": {
            "tags": []
          },
          "execution_count": 181
        }
      ]
    },
    {
      "cell_type": "markdown",
      "metadata": {
        "id": "VTHk12hvpEFy"
      },
      "source": [
        "ข้อที่ 2"
      ]
    },
    {
      "cell_type": "code",
      "metadata": {
        "colab": {
          "base_uri": "https://localhost:8080/"
        },
        "id": "IPm_6_2OlPEK",
        "outputId": "ad57ce87-4a33-4783-d09b-70b493b5a6d2"
      },
      "source": [
        "mul_metrix(C,D)"
      ],
      "execution_count": null,
      "outputs": [
        {
          "output_type": "execute_result",
          "data": {
            "text/plain": [
              "array([[199.72],\n",
              "       [169.1 ],\n",
              "       [217.79],\n",
              "       [ 99.04]])"
            ]
          },
          "metadata": {
            "tags": []
          },
          "execution_count": 182
        }
      ]
    },
    {
      "cell_type": "markdown",
      "metadata": {
        "id": "UVpvlV12pF4l"
      },
      "source": [
        "ข้อที่ 3"
      ]
    },
    {
      "cell_type": "code",
      "metadata": {
        "colab": {
          "base_uri": "https://localhost:8080/"
        },
        "id": "CLXZHhgOlPmT",
        "outputId": "30a7b02a-0a07-48ea-bbff-bad15489f700"
      },
      "source": [
        "mul_metrix(E,F)"
      ],
      "execution_count": null,
      "outputs": [
        {
          "output_type": "execute_result",
          "data": {
            "text/plain": [
              "array([[ 9.9, 14.3],\n",
              "       [ 9.9, 14.3]])"
            ]
          },
          "metadata": {
            "tags": []
          },
          "execution_count": 183
        }
      ]
    },
    {
      "cell_type": "markdown",
      "metadata": {
        "id": "97tJsZfJrZkN"
      },
      "source": [
        "####ทดสอบความแตกต่าง"
      ]
    },
    {
      "cell_type": "markdown",
      "metadata": {
        "id": "h0BCnIujqfbC"
      },
      "source": [
        "เปรียบเทียบผลลัพธ์ของฟังก์ชั่นกับไลบารี่ Numpy"
      ]
    },
    {
      "cell_type": "code",
      "metadata": {
        "id": "nwrbgoGCqlc2"
      },
      "source": [
        "def test(x,y):\r\n",
        "  if np.all(mul_metrix(x,y)) == np.all(np.dot(x,y)):\r\n",
        "    print('ถูก')\r\n",
        "  else:\r\n",
        "    print('zbf')"
      ],
      "execution_count": null,
      "outputs": []
    },
    {
      "cell_type": "markdown",
      "metadata": {
        "id": "42wGLx9ZrjSk"
      },
      "source": [
        "ข้อที่ 1"
      ]
    },
    {
      "cell_type": "code",
      "metadata": {
        "colab": {
          "base_uri": "https://localhost:8080/"
        },
        "id": "4si5eFxzrTxm",
        "outputId": "7bc2ad23-59dc-49c6-98b6-9973fd973add"
      },
      "source": [
        "test(A,B)"
      ],
      "execution_count": null,
      "outputs": [
        {
          "output_type": "stream",
          "text": [
            "ถูก\n"
          ],
          "name": "stdout"
        }
      ]
    },
    {
      "cell_type": "markdown",
      "metadata": {
        "id": "7ECF4Q9Ur6eM"
      },
      "source": [
        "ข้อที่ 2"
      ]
    },
    {
      "cell_type": "code",
      "metadata": {
        "colab": {
          "base_uri": "https://localhost:8080/"
        },
        "id": "aKOC8G4lr-Vz",
        "outputId": "1018f077-e2b0-4f64-82ba-a2cdffab895f"
      },
      "source": [
        "test(C,D)"
      ],
      "execution_count": null,
      "outputs": [
        {
          "output_type": "stream",
          "text": [
            "ถูก\n"
          ],
          "name": "stdout"
        }
      ]
    },
    {
      "cell_type": "markdown",
      "metadata": {
        "id": "zd_mG637r6Hm"
      },
      "source": [
        "ข้อที่ 3"
      ]
    },
    {
      "cell_type": "code",
      "metadata": {
        "colab": {
          "base_uri": "https://localhost:8080/"
        },
        "id": "N7eNSr2lr9E7",
        "outputId": "06d0d46e-7dcd-46ef-d97d-5c92584486b0"
      },
      "source": [
        "test(E,F)"
      ],
      "execution_count": null,
      "outputs": [
        {
          "output_type": "stream",
          "text": [
            "ถูก\n"
          ],
          "name": "stdout"
        }
      ]
    },
    {
      "cell_type": "markdown",
      "metadata": {
        "id": "Awax6wMNsEjj"
      },
      "source": [
        "**สรุป**\r\n",
        "\r\n",
        "การเปรียบเทียบผลลัพธ์ของฟังก์ชั่นกับไลบารี่ Numpy ในการหาผลคูณของ matrix นั้นให้ผลลัพธ์ไม่แตกต่างกัน"
      ]
    }
  ]
}