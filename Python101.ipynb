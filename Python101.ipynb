{
  "nbformat": 4,
  "nbformat_minor": 0,
  "metadata": {
    "colab": {
      "name": "Python101.ipynb",
      "provenance": [],
      "authorship_tag": "ABX9TyPbaLsHGlpwfESgKTTC43GC",
      "include_colab_link": true
    },
    "kernelspec": {
      "name": "python3",
      "display_name": "Python 3"
    }
  },
  "cells": [
    {
      "cell_type": "markdown",
      "metadata": {
        "id": "view-in-github",
        "colab_type": "text"
      },
      "source": [
        "<a href=\"https://colab.research.google.com/github/MMoltira/data_viz/blob/main/Python101.ipynb\" target=\"_parent\"><img src=\"https://colab.research.google.com/assets/colab-badge.svg\" alt=\"Open In Colab\"/></a>"
      ]
    },
    {
      "cell_type": "markdown",
      "metadata": {
        "id": "wSgIT8mzidNU"
      },
      "source": [
        "##Variables คือ ตัวแปล หน้าที่ของตัวแปลก้คือ เก็บข้อมูลหนึ่งตัว เช่น ตัวเลข ตัวหนังสือ"
      ]
    },
    {
      "cell_type": "markdown",
      "metadata": {
        "id": "WxC0kQ0Ujgfa"
      },
      "source": [
        "#Ex. ทำไมตัวแปลถึงสำคัญ สมมติมีตัวเลขตัวนึงที่จำเป็นต้องใช้บ่อยๆ เช่น ค่าพาย"
      ]
    },
    {
      "cell_type": "code",
      "metadata": {
        "colab": {
          "base_uri": "https://localhost:8080/"
        },
        "id": "5oFl7dLYlw_3",
        "outputId": "fafda983-d5ef-4d40-aa10-9f329b4fc41f"
      },
      "source": [
        "3.14159265359 #ค่าpi เวลาเราจะใช้ไม่จำเป็นต้องพิมพ์ตัวเลขยาวๆ "
      ],
      "execution_count": 2,
      "outputs": [
        {
          "output_type": "execute_result",
          "data": {
            "text/plain": [
              "3.14159265359"
            ]
          },
          "metadata": {
            "tags": []
          },
          "execution_count": 2
        }
      ]
    },
    {
      "cell_type": "markdown",
      "metadata": {
        "id": "304uDYM3NoE8"
      },
      "source": [
        "### หลักการตั้งชื่อตัวแปรเบื้องต้น\n",
        "\n",
        "\n",
        "1.   ตั้งให้สื่อ\n",
        "2.   ภาษาอังกฤษ\n",
        "3.   ใช้ตัวเลขได้ แต่ห้ามขึ้นต้นด้วยตัวเลข \n",
        "4.   หัวเว้นวรรค\n",
        "\n"
      ]
    },
    {
      "cell_type": "code",
      "metadata": {
        "id": "wPNOVL4WlaC3"
      },
      "source": [
        "pi=3.14159265359 #ตัวเลขจะถูกเก็บในค่า pi"
      ],
      "execution_count": 3,
      "outputs": []
    },
    {
      "cell_type": "markdown",
      "metadata": {
        "id": "3m2COMDGl5OT"
      },
      "source": [
        "จะเห็นว่ามันไม่ปริ้นอะไรออกมาเลย ไพทอนจะมี2โหมด คือ เก็บค่าตัวแปรกับปริ้นค่าต่างๆออกมา "
      ]
    },
    {
      "cell_type": "code",
      "metadata": {
        "id": "y5vgGGFImgyK",
        "colab": {
          "base_uri": "https://localhost:8080/"
        },
        "outputId": "41c610ef-7b96-40e7-cb1e-29a364a3e3d6"
      },
      "source": [
        "pi #เมื่อพิมพ์ pi มันก็จะปริ้นค่าที่เราเอาไปเก็บไว้ใน pi"
      ],
      "execution_count": 4,
      "outputs": [
        {
          "output_type": "execute_result",
          "data": {
            "text/plain": [
              "3.14159265359"
            ]
          },
          "metadata": {
            "tags": []
          },
          "execution_count": 4
        }
      ]
    },
    {
      "cell_type": "markdown",
      "metadata": {
        "id": "f-5diD4MOrY4"
      },
      "source": [
        "# ชนิดตัวแปร"
      ]
    },
    {
      "cell_type": "markdown",
      "metadata": {
        "id": "Z4PENkZ5M2Ie"
      },
      "source": [
        "## int : จำนวนเต็ม"
      ]
    },
    {
      "cell_type": "code",
      "metadata": {
        "id": "3JB7Bv-VMpkL"
      },
      "source": [
        "a = 10 "
      ],
      "execution_count": null,
      "outputs": []
    },
    {
      "cell_type": "code",
      "metadata": {
        "colab": {
          "base_uri": "https://localhost:8080/"
        },
        "id": "W25tBhqsNCs_",
        "outputId": "4c2f5e43-0e09-4d2b-fd7e-ea049d6a55d9"
      },
      "source": [
        "print(a)"
      ],
      "execution_count": null,
      "outputs": [
        {
          "output_type": "stream",
          "text": [
            "10\n"
          ],
          "name": "stdout"
        }
      ]
    },
    {
      "cell_type": "markdown",
      "metadata": {
        "id": "OIGFJ61fO4ux"
      },
      "source": [
        "## float : จำนวนจริงที่เป็นทศนิยม"
      ]
    },
    {
      "cell_type": "code",
      "metadata": {
        "colab": {
          "base_uri": "https://localhost:8080/"
        },
        "id": "Oa0M-P3hPAQ4",
        "outputId": "8bdc73f4-730d-4033-e03a-5c69a2cbc5b5"
      },
      "source": [
        "b = 10.\n",
        "print(b)"
      ],
      "execution_count": null,
      "outputs": [
        {
          "output_type": "stream",
          "text": [
            "10.0\n"
          ],
          "name": "stdout"
        }
      ]
    },
    {
      "cell_type": "markdown",
      "metadata": {
        "id": "5qP9SfikPSQE"
      },
      "source": [
        "## char : ข้อความหรือตัวอักษร\n",
        "\n",
        "-> # hashtag, sharp ใช้สำหรับคอมเม้น"
      ]
    },
    {
      "cell_type": "code",
      "metadata": {
        "colab": {
          "base_uri": "https://localhost:8080/"
        },
        "id": "5aloIN9mPAKx",
        "outputId": "e405120e-ed36-4ef4-8a44-726591936471"
      },
      "source": [
        "c = 'OHH' #เราจะบอกว่าตัวแปรเป็นตัวอักษรหรือข้อความโดยการใช้ single quote '....' หรือ double quot \"...\" ล้อมรอบ\n",
        "print(c)"
      ],
      "execution_count": null,
      "outputs": [
        {
          "output_type": "stream",
          "text": [
            "OHH\n"
          ],
          "name": "stdout"
        }
      ]
    },
    {
      "cell_type": "code",
      "metadata": {
        "colab": {
          "base_uri": "https://localhost:8080/"
        },
        "id": "sAr8JJh6Q8ao",
        "outputId": "534c0645-4bdc-442a-be6e-c563931d1f38"
      },
      "source": [
        "d = '10'\n",
        "print(d)"
      ],
      "execution_count": null,
      "outputs": [
        {
          "output_type": "stream",
          "text": [
            "10\n"
          ],
          "name": "stdout"
        }
      ]
    },
    {
      "cell_type": "code",
      "metadata": {
        "colab": {
          "base_uri": "https://localhost:8080/",
          "height": 164
        },
        "id": "Dc6g-TBRUEuS",
        "outputId": "d13ea07c-1e0c-481d-ebe5-9fff1e159fab"
      },
      "source": [
        "d+1"
      ],
      "execution_count": null,
      "outputs": [
        {
          "output_type": "error",
          "ename": "TypeError",
          "evalue": "ignored",
          "traceback": [
            "\u001b[0;31m---------------------------------------------------------------------------\u001b[0m",
            "\u001b[0;31mTypeError\u001b[0m                                 Traceback (most recent call last)",
            "\u001b[0;32m<ipython-input-18-1e06e37b4525>\u001b[0m in \u001b[0;36m<module>\u001b[0;34m()\u001b[0m\n\u001b[0;32m----> 1\u001b[0;31m \u001b[0md\u001b[0m\u001b[0;34m+\u001b[0m\u001b[0;36m1\u001b[0m\u001b[0;34m\u001b[0m\u001b[0;34m\u001b[0m\u001b[0m\n\u001b[0m",
            "\u001b[0;31mTypeError\u001b[0m: must be str, not int"
          ]
        }
      ]
    },
    {
      "cell_type": "markdown",
      "metadata": {
        "id": "N0N8zxlkPiCh"
      },
      "source": [
        "## variable casting การเปลี่ยนชนิดตัวแปร\n",
        "\n",
        " การเปลี่ยน char เป็น int"
      ]
    },
    {
      "cell_type": "code",
      "metadata": {
        "colab": {
          "base_uri": "https://localhost:8080/"
        },
        "id": "ZglDp96kPACo",
        "outputId": "a6ea2710-b05b-49bb-c092-0e73b9d64055"
      },
      "source": [
        "ch = 10\n",
        "ch"
      ],
      "execution_count": null,
      "outputs": [
        {
          "output_type": "execute_result",
          "data": {
            "text/plain": [
              "10"
            ]
          },
          "metadata": {
            "tags": []
          },
          "execution_count": 19
        }
      ]
    },
    {
      "cell_type": "code",
      "metadata": {
        "colab": {
          "base_uri": "https://localhost:8080/"
        },
        "id": "WFtxdRuORhu8",
        "outputId": "abb3de37-0da7-467d-91bb-6d954202e6cb"
      },
      "source": [
        "int(ch)"
      ],
      "execution_count": null,
      "outputs": [
        {
          "output_type": "execute_result",
          "data": {
            "text/plain": [
              "10"
            ]
          },
          "metadata": {
            "tags": []
          },
          "execution_count": 20
        }
      ]
    },
    {
      "cell_type": "code",
      "metadata": {
        "colab": {
          "base_uri": "https://localhost:8080/"
        },
        "id": "Pr_eLW2aR8Yo",
        "outputId": "d46cab5d-23dd-4dad-ef5c-58e3c38503f3"
      },
      "source": [
        "int(d) + 1"
      ],
      "execution_count": null,
      "outputs": [
        {
          "output_type": "execute_result",
          "data": {
            "text/plain": [
              "11"
            ]
          },
          "metadata": {
            "tags": []
          },
          "execution_count": 21
        }
      ]
    },
    {
      "cell_type": "markdown",
      "metadata": {
        "id": "ooMIjnGfSHRh"
      },
      "source": [
        "## เปลี่ยน int เป็น float"
      ]
    },
    {
      "cell_type": "code",
      "metadata": {
        "colab": {
          "base_uri": "https://localhost:8080/"
        },
        "id": "Yi3cdkZnSHE1",
        "outputId": "4ba37aca-5282-409e-8e65-a207d7d11498"
      },
      "source": [
        "print(a)\n",
        "print(float(a))\n",
        "print(str(a))"
      ],
      "execution_count": null,
      "outputs": [
        {
          "output_type": "stream",
          "text": [
            "10\n",
            "10.0\n",
            "10\n"
          ],
          "name": "stdout"
        }
      ]
    },
    {
      "cell_type": "markdown",
      "metadata": {
        "id": "0_W5Gwu0Sah0"
      },
      "source": [
        "## Operation การเอาตัวแปรสองตัวมาบวก ลบ คูณ หาร\n",
        "## Operator +,-,*,/,%"
      ]
    },
    {
      "cell_type": "code",
      "metadata": {
        "colab": {
          "base_uri": "https://localhost:8080/"
        },
        "id": "0T2kP-vWSHAk",
        "outputId": "e4c0bef4-bed8-412e-e2ca-831a2e6f17ef"
      },
      "source": [
        "a+b"
      ],
      "execution_count": null,
      "outputs": [
        {
          "output_type": "execute_result",
          "data": {
            "text/plain": [
              "20.0"
            ]
          },
          "metadata": {
            "tags": []
          },
          "execution_count": 23
        }
      ]
    },
    {
      "cell_type": "code",
      "metadata": {
        "colab": {
          "base_uri": "https://localhost:8080/"
        },
        "id": "KtAYnONiSG61",
        "outputId": "528d4bab-035b-4df7-91eb-f45959094917"
      },
      "source": [
        "ab = a+b\n",
        "print(ab)"
      ],
      "execution_count": null,
      "outputs": [
        {
          "output_type": "stream",
          "text": [
            "20.0\n"
          ],
          "name": "stdout"
        }
      ]
    },
    {
      "cell_type": "markdown",
      "metadata": {
        "id": "hPE4wCgVS-3Z"
      },
      "source": [
        "### % คือ เครื่องหมาย modulo การหารเอาเศษ"
      ]
    },
    {
      "cell_type": "code",
      "metadata": {
        "colab": {
          "base_uri": "https://localhost:8080/"
        },
        "id": "0_Hl-vvfSG0Y",
        "outputId": "9afdaa50-1879-4e61-b04a-b5f5a69750c6"
      },
      "source": [
        "5%3"
      ],
      "execution_count": null,
      "outputs": [
        {
          "output_type": "execute_result",
          "data": {
            "text/plain": [
              "2"
            ]
          },
          "metadata": {
            "tags": []
          },
          "execution_count": 25
        }
      ]
    },
    {
      "cell_type": "code",
      "metadata": {
        "colab": {
          "base_uri": "https://localhost:8080/"
        },
        "id": "lJee3lGrTHSu",
        "outputId": "ed5481e5-e8a8-41e6-d94b-7598597da071"
      },
      "source": [
        "7%3"
      ],
      "execution_count": null,
      "outputs": [
        {
          "output_type": "execute_result",
          "data": {
            "text/plain": [
              "1"
            ]
          },
          "metadata": {
            "tags": []
          },
          "execution_count": 26
        }
      ]
    },
    {
      "cell_type": "markdown",
      "metadata": {
        "id": "ThTb9wstTaqj"
      },
      "source": [
        "## คำสั่ง print แบบพิเศษ (การ format string)"
      ]
    },
    {
      "cell_type": "code",
      "metadata": {
        "colab": {
          "base_uri": "https://localhost:8080/"
        },
        "id": "V3mBk9uITP4n",
        "outputId": "402deba3-fe9d-4372-ffe0-77b698d3fe2a"
      },
      "source": [
        "print('ตัวแปร') # สิงที่อยู่ในวงเล็บคือ ตัวแปร และ string"
      ],
      "execution_count": null,
      "outputs": [
        {
          "output_type": "stream",
          "text": [
            "ตัวแปร\n"
          ],
          "name": "stdout"
        }
      ]
    },
    {
      "cell_type": "code",
      "metadata": {
        "colab": {
          "base_uri": "https://localhost:8080/"
        },
        "id": "ORlgaPvqTkkD",
        "outputId": "f79e6dbb-3429-49a2-cd68-89edc89971c6"
      },
      "source": [
        "print(f'% คือ การหารเอาเศษ เช่น 7%3 = {7%3}')\n",
        "# เพิ่ม f หน้า 'string' และใช้ {} เพื่อใส่ code"
      ],
      "execution_count": null,
      "outputs": [
        {
          "output_type": "stream",
          "text": [
            "% คือ การหารเอาเศษ เช่น 7%3 = 1\n"
          ],
          "name": "stdout"
        }
      ]
    },
    {
      "cell_type": "code",
      "metadata": {
        "colab": {
          "base_uri": "https://localhost:8080/"
        },
        "id": "J6ZThfzkTkhL",
        "outputId": "f1a0b3b3-90c9-471f-b6a7-a895f0a6a5bc"
      },
      "source": [
        "print(f'% คือ การหารเอาเศษ เช่น 7%3 = {7%3} \\n แต่ / คือ การหารปกติ เช่น 7/3 = {7/3}' ) # \\n คือ การขึ้นบรรทัดใหม่"
      ],
      "execution_count": null,
      "outputs": [
        {
          "output_type": "stream",
          "text": [
            "% คือ การหารเอาเศษ เช่น 7%3 = 1 \n",
            " แต่ / คือ การหารปกติ เช่น 7/3 = 2.3333333333333335\n"
          ],
          "name": "stdout"
        }
      ]
    },
    {
      "cell_type": "code",
      "metadata": {
        "id": "xlufPxprTkVr",
        "colab": {
          "base_uri": "https://localhost:8080/"
        },
        "outputId": "98dab3af-e048-4169-fa7f-984066454751"
      },
      "source": [
        "print(f'% คือ การหารเอาเศษ เช่น 7%3 = {7%3} \\n แต่ / คือ การหารปกติ เช่น 7/3 = {7/3} \\\\\n",
        "  และ \\n// เลือกการหารเอาส่วน เช่น 7//3 = {7//3}\\\\ หรือ \\nใช้ int เพื่อหารเอาส่วน เช่น {int(7/3)}')\n",
        "# การเว้นวรรค \\\\ คือ  ใช้ในการตัด code แต่ คอมจะไม่เห็น"
      ],
      "execution_count": null,
      "outputs": [
        {
          "output_type": "stream",
          "text": [
            "% คือ การหารเอาเศษ เช่น 7%3 = 1 \n",
            " แต่ / คือ การหารปกติ เช่น 7/3 = 2.3333333333333335 \\  และ \n",
            "// เลือกการหารเอาส่วน เช่น 7//3 = 2\\ หรือ \n",
            "ใช้ int เพื่อหารเอาส่วน เช่น 2\n"
          ],
          "name": "stdout"
        }
      ]
    },
    {
      "cell_type": "markdown",
      "metadata": {
        "id": "zwmu8_LsbU3g"
      },
      "source": [
        "DATA STRURE (โครงสร้างข้อมูล)"
      ]
    },
    {
      "cell_type": "markdown",
      "metadata": {
        "id": "FLUBSm6GbeEa"
      },
      "source": [
        "List คือ การเอาตัวแปรหลายๆตัวมาต่อกัน  list สร้างได้ 2แบบ ดังนี้"
      ]
    },
    {
      "cell_type": "markdown",
      "metadata": {
        "id": "5IBj4ORPbs78"
      },
      "source": [
        "แบบที่ 1 > square brackets"
      ]
    },
    {
      "cell_type": "code",
      "metadata": {
        "id": "D9dIVkilZGWf"
      },
      "source": [
        "list_a = [] # สร้าง list ว่าง โดยให้อยู่ในชื่อตัวแปร list_a\n",
        "print(list_a)"
      ],
      "execution_count": null,
      "outputs": []
    },
    {
      "cell_type": "code",
      "metadata": {
        "colab": {
          "base_uri": "https://localhost:8080/"
        },
        "id": "EXW4V48xb5H9",
        "outputId": "76f0642f-945d-4e70-8184-402f0a91f8f9"
      },
      "source": [
        "list_b = [1,5,'v']\n",
        "print(list_b) # สร้าง list เก็บ 1 5 v โดยให้อยู่ในชื่อตัวแปร list_b"
      ],
      "execution_count": null,
      "outputs": [
        {
          "output_type": "stream",
          "text": [
            "[1, 5, 'v']\n"
          ],
          "name": "stdout"
        }
      ]
    },
    {
      "cell_type": "markdown",
      "metadata": {
        "id": "Hair7cSpcIak"
      },
      "source": [
        "ลำดับที่อยู่ในลิสต์มีความสำคัญ"
      ]
    },
    {
      "cell_type": "markdown",
      "metadata": {
        "id": "0-uLgZqkcSZU"
      },
      "source": [
        "### ลำดับที่อยู่ในลิสต์ มีความสำคัญ (ลำดับในลิสต์ เริ่มจาก 0,1,2,...)"
      ]
    },
    {
      "cell_type": "code",
      "metadata": {
        "colab": {
          "base_uri": "https://localhost:8080/"
        },
        "id": "EwVQ4I7kcF6E",
        "outputId": "565b5221-17a3-433e-9166-1dbca39c5ecb"
      },
      "source": [
        "list_b[1]"
      ],
      "execution_count": null,
      "outputs": [
        {
          "output_type": "execute_result",
          "data": {
            "text/plain": [
              "5"
            ]
          },
          "metadata": {
            "tags": []
          },
          "execution_count": 33
        }
      ]
    },
    {
      "cell_type": "markdown",
      "metadata": {
        "id": "7OkjO1TCci5N"
      },
      "source": [
        "แบบที่ 2"
      ]
    },
    {
      "cell_type": "code",
      "metadata": {
        "colab": {
          "base_uri": "https://localhost:8080/"
        },
        "id": "RHgrDHXFchB3",
        "outputId": "825d5b45-8b72-4fc6-b72c-9c5f26d2c604"
      },
      "source": [
        "list_c = list()\n",
        "print(list_c)"
      ],
      "execution_count": null,
      "outputs": [
        {
          "output_type": "stream",
          "text": [
            "[]\n"
          ],
          "name": "stdout"
        }
      ]
    },
    {
      "cell_type": "markdown",
      "metadata": {
        "id": "zThaGAcOdBJC"
      },
      "source": [
        "append() เพิ่มสมาชิกในลิสต์"
      ]
    },
    {
      "cell_type": "code",
      "metadata": {
        "colab": {
          "base_uri": "https://localhost:8080/"
        },
        "id": "5Bqi1hkQdHQ_",
        "outputId": "9f9eda72-2ee7-4939-a01d-9b2ef37ad946"
      },
      "source": [
        "list_b.append('u')\n",
        "print(list_b) #ทำการเพิ่มสมาชิก คือ u เข้าไปใน list_b โดยใช้คำสั่ง .append"
      ],
      "execution_count": null,
      "outputs": [
        {
          "output_type": "stream",
          "text": [
            "[1, 5, 'v', 'u']\n"
          ],
          "name": "stdout"
        }
      ]
    },
    {
      "cell_type": "code",
      "metadata": {
        "colab": {
          "base_uri": "https://localhost:8080/",
          "height": 34
        },
        "id": "Kf8IDuLpdeuq",
        "outputId": "22465753-5ab5-496c-a09e-b6ede62af715"
      },
      "source": [
        "list_b.pop() # ดึงสมาชิกสุดท้ายออกจาก list"
      ],
      "execution_count": null,
      "outputs": [
        {
          "output_type": "execute_result",
          "data": {
            "application/vnd.google.colaboratory.intrinsic+json": {
              "type": "string"
            },
            "text/plain": [
              "'u'"
            ]
          },
          "metadata": {
            "tags": []
          },
          "execution_count": 36
        }
      ]
    },
    {
      "cell_type": "code",
      "metadata": {
        "colab": {
          "base_uri": "https://localhost:8080/"
        },
        "id": "IZw9acVvdjmi",
        "outputId": "20b4b8f4-767f-4279-d976-02ff498e462e"
      },
      "source": [
        "list_b"
      ],
      "execution_count": null,
      "outputs": [
        {
          "output_type": "execute_result",
          "data": {
            "text/plain": [
              "[1, 5, 'v']"
            ]
          },
          "metadata": {
            "tags": []
          },
          "execution_count": 37
        }
      ]
    },
    {
      "cell_type": "code",
      "metadata": {
        "colab": {
          "base_uri": "https://localhost:8080/"
        },
        "id": "8Sj5mp21U2Oz",
        "outputId": "019faa28-8cd5-4af3-ebcc-9324b3d3e4c4"
      },
      "source": [
        "list_b.append(list_a) # การใส่ list เข้าไปใน list \n",
        "print(list_b)"
      ],
      "execution_count": null,
      "outputs": [
        {
          "output_type": "stream",
          "text": [
            "[1, 5, 'v', []]\n"
          ],
          "name": "stdout"
        }
      ]
    },
    {
      "cell_type": "markdown",
      "metadata": {
        "id": "pNyUKxS7d3vb"
      },
      "source": [
        "String> list of characters"
      ]
    },
    {
      "cell_type": "code",
      "metadata": {
        "colab": {
          "base_uri": "https://localhost:8080/"
        },
        "id": "HtIs18h-U84G",
        "outputId": "9f5eec09-e1b3-4155-9d28-d329a303f457"
      },
      "source": [
        "len(list_b) # len คือคำสั่งตรวจสอบความยาวของ list (จำนวนสมาชิก)"
      ],
      "execution_count": null,
      "outputs": [
        {
          "output_type": "execute_result",
          "data": {
            "text/plain": [
              "4"
            ]
          },
          "metadata": {
            "tags": []
          },
          "execution_count": 39
        }
      ]
    },
    {
      "cell_type": "code",
      "metadata": {
        "colab": {
          "base_uri": "https://localhost:8080/",
          "height": 34
        },
        "id": "APcdGgVRd-1Z",
        "outputId": "16929092-6d78-4032-d967-f3f95778742a"
      },
      "source": [
        "t='prthon is easy'\n",
        "t"
      ],
      "execution_count": null,
      "outputs": [
        {
          "output_type": "execute_result",
          "data": {
            "application/vnd.google.colaboratory.intrinsic+json": {
              "type": "string"
            },
            "text/plain": [
              "'prthon is easy'"
            ]
          },
          "metadata": {
            "tags": []
          },
          "execution_count": 40
        }
      ]
    },
    {
      "cell_type": "code",
      "metadata": {
        "colab": {
          "base_uri": "https://localhost:8080/"
        },
        "id": "EffsxiJAetvf",
        "outputId": "a2e7d845-a5a2-48d2-c989-ca4eeb2415ef"
      },
      "source": [
        "len(t) # ตรวจสอบความยาวของตัวแปร t ที่เก็บคำว่า python is easy"
      ],
      "execution_count": null,
      "outputs": [
        {
          "output_type": "execute_result",
          "data": {
            "text/plain": [
              "14"
            ]
          },
          "metadata": {
            "tags": []
          },
          "execution_count": 41
        }
      ]
    },
    {
      "cell_type": "markdown",
      "metadata": {
        "id": "3yBGNNLhe3M-"
      },
      "source": [
        "access a member of a list (list&string)\n",
        "โดยการเริ่มนับจาก 0 โดย 0 คือสมาชิกตัวแรก , -1 คือสมาชิกตัวสุดท้าบ"
      ]
    },
    {
      "cell_type": "code",
      "metadata": {
        "colab": {
          "base_uri": "https://localhost:8080/",
          "height": 34
        },
        "id": "rATKYzBrfV-P",
        "outputId": "a43ee54e-c68c-4f71-a347-58cfe42fcd25"
      },
      "source": [
        "t[1]"
      ],
      "execution_count": null,
      "outputs": [
        {
          "output_type": "execute_result",
          "data": {
            "application/vnd.google.colaboratory.intrinsic+json": {
              "type": "string"
            },
            "text/plain": [
              "'r'"
            ]
          },
          "metadata": {
            "tags": []
          },
          "execution_count": 42
        }
      ]
    },
    {
      "cell_type": "code",
      "metadata": {
        "colab": {
          "base_uri": "https://localhost:8080/",
          "height": 34
        },
        "id": "0rphelIre28Q",
        "outputId": "71aa93ad-8ec8-4a5d-c169-e2c2d4f97b3f"
      },
      "source": [
        "t[-1]"
      ],
      "execution_count": null,
      "outputs": [
        {
          "output_type": "execute_result",
          "data": {
            "application/vnd.google.colaboratory.intrinsic+json": {
              "type": "string"
            },
            "text/plain": [
              "'y'"
            ]
          },
          "metadata": {
            "tags": []
          },
          "execution_count": 43
        }
      ]
    },
    {
      "cell_type": "code",
      "metadata": {
        "colab": {
          "base_uri": "https://localhost:8080/",
          "height": 34
        },
        "id": "S9QDJbXnfkCz",
        "outputId": "85cdcb24-98a1-4ede-b2f3-fc3442a75cf1"
      },
      "source": [
        "t[-4]"
      ],
      "execution_count": null,
      "outputs": [
        {
          "output_type": "execute_result",
          "data": {
            "application/vnd.google.colaboratory.intrinsic+json": {
              "type": "string"
            },
            "text/plain": [
              "'e'"
            ]
          },
          "metadata": {
            "tags": []
          },
          "execution_count": 44
        }
      ]
    },
    {
      "cell_type": "markdown",
      "metadata": {
        "id": "gTuvqVaUgFWq"
      },
      "source": [
        "ตัวที่อยู่ข้างใน [] เราเรียกว่า index (ตัวชี้)"
      ]
    },
    {
      "cell_type": "markdown",
      "metadata": {
        "id": "nQNEo_mEgWD3"
      },
      "source": [
        "### List slicing สามารถทำได้โดยใช้ colon : [a:b] -> (a,b)"
      ]
    },
    {
      "cell_type": "code",
      "metadata": {
        "id": "0Fhhke0mgUdM",
        "colab": {
          "base_uri": "https://localhost:8080/"
        },
        "outputId": "900f731f-22a5-45fc-c23e-878b68968958"
      },
      "source": [
        "print(t)\n",
        "print(t[7:9]) # เอาตัวที่ 7 คือ i และไม่เอาตัวที่ 9 เพราะฉะนั้นจะได้ s"
      ],
      "execution_count": null,
      "outputs": [
        {
          "output_type": "stream",
          "text": [
            "prthon is easy\n",
            "is\n"
          ],
          "name": "stdout"
        }
      ]
    },
    {
      "cell_type": "markdown",
      "metadata": {
        "id": "cvoJNIXWiPxv"
      },
      "source": [
        "ถ้าเว้นว่างหน้า : หมายความว่า เริ่มตั้งแต่ตัวแรก\n",
        "ถ้าเว้นว่างหลัง : หมายความว่าไปจนถึงตัวสุดท้าย"
      ]
    },
    {
      "cell_type": "code",
      "metadata": {
        "colab": {
          "base_uri": "https://localhost:8080/"
        },
        "id": "2Aqd80f0ihvt",
        "outputId": "101e8269-e25a-4a99-fd8b-06b11862941a"
      },
      "source": [
        "print(t)\n",
        "print(t[:6])\n",
        "print(t[10:])\n",
        "print(t[-4:])\n",
        "print(t[:])"
      ],
      "execution_count": null,
      "outputs": [
        {
          "output_type": "stream",
          "text": [
            "prthon is easy\n",
            "prthon\n",
            "easy\n",
            "easy\n",
            "prthon is easy\n"
          ],
          "name": "stdout"
        }
      ]
    },
    {
      "cell_type": "markdown",
      "metadata": {
        "id": "Ood4rp6Qi99-"
      },
      "source": [
        "###เราสามารถเอา ลิสต์ มาต่อกันด้วย +"
      ]
    },
    {
      "cell_type": "code",
      "metadata": {
        "colab": {
          "base_uri": "https://localhost:8080/",
          "height": 34
        },
        "id": "YPImgXRfjI45",
        "outputId": "780142f0-4f84-4ef1-a270-a4857628f7cc"
      },
      "source": [
        "t+ '??'"
      ],
      "execution_count": null,
      "outputs": [
        {
          "output_type": "execute_result",
          "data": {
            "application/vnd.google.colaboratory.intrinsic+json": {
              "type": "string"
            },
            "text/plain": [
              "'prthon is easy??'"
            ]
          },
          "metadata": {
            "tags": []
          },
          "execution_count": 47
        }
      ]
    },
    {
      "cell_type": "code",
      "metadata": {
        "id": "pT2pm6rAjf2X",
        "colab": {
          "base_uri": "https://localhost:8080/",
          "height": 164
        },
        "outputId": "6025c4a5-856c-46f4-cf35-1ae2f4644e85"
      },
      "source": [
        "t+list_b #ไม่สามารถเอามาต่อกับสตริง"
      ],
      "execution_count": null,
      "outputs": [
        {
          "output_type": "error",
          "ename": "TypeError",
          "evalue": "ignored",
          "traceback": [
            "\u001b[0;31m---------------------------------------------------------------------------\u001b[0m",
            "\u001b[0;31mTypeError\u001b[0m                                 Traceback (most recent call last)",
            "\u001b[0;32m<ipython-input-48-a565f6aa67f2>\u001b[0m in \u001b[0;36m<module>\u001b[0;34m()\u001b[0m\n\u001b[0;32m----> 1\u001b[0;31m \u001b[0mt\u001b[0m\u001b[0;34m+\u001b[0m\u001b[0mlist_b\u001b[0m \u001b[0;31m#ไม่สามารถเอามาต่อกับสตริง\u001b[0m\u001b[0;34m\u001b[0m\u001b[0;34m\u001b[0m\u001b[0m\n\u001b[0m",
            "\u001b[0;31mTypeError\u001b[0m: must be str, not list"
          ]
        }
      ]
    },
    {
      "cell_type": "code",
      "metadata": {
        "colab": {
          "base_uri": "https://localhost:8080/"
        },
        "id": "wvGBoI_2jOum",
        "outputId": "aa591036-14dc-44bf-f1b9-217b3ac8bb66"
      },
      "source": [
        "list_b+list_b"
      ],
      "execution_count": null,
      "outputs": [
        {
          "output_type": "execute_result",
          "data": {
            "text/plain": [
              "[1, 5, 'v', [], 1, 5, 'v', []]"
            ]
          },
          "metadata": {
            "tags": []
          },
          "execution_count": 49
        }
      ]
    },
    {
      "cell_type": "markdown",
      "metadata": {
        "id": "GhscOUy-jrSG"
      },
      "source": [
        "การแบ่ง string ตามสัญลักษณ์ที่กำหนด ->split string (c)"
      ]
    },
    {
      "cell_type": "code",
      "metadata": {
        "colab": {
          "base_uri": "https://localhost:8080/"
        },
        "id": "hUacInPLjqM3",
        "outputId": "ed0867b4-d9dd-4a28-90a6-47fe147c64d2"
      },
      "source": [
        "t.split(' ') #การแบ่งด้วยช่องว่าง"
      ],
      "execution_count": null,
      "outputs": [
        {
          "output_type": "execute_result",
          "data": {
            "text/plain": [
              "['prthon', 'is', 'easy']"
            ]
          },
          "metadata": {
            "tags": []
          },
          "execution_count": 50
        }
      ]
    },
    {
      "cell_type": "code",
      "metadata": {
        "id": "qOmUFpwFkIUp"
      },
      "source": [
        "time='12:30:15'"
      ],
      "execution_count": null,
      "outputs": []
    },
    {
      "cell_type": "code",
      "metadata": {
        "colab": {
          "base_uri": "https://localhost:8080/"
        },
        "id": "4Fi7OcVwkOXE",
        "outputId": "4c81669b-91db-476b-d33e-92a090294743"
      },
      "source": [
        "time.split(':') #การแบ่งด้วยสัญลักษณ์ :"
      ],
      "execution_count": null,
      "outputs": [
        {
          "output_type": "execute_result",
          "data": {
            "text/plain": [
              "['12', '30', '15']"
            ]
          },
          "metadata": {
            "tags": []
          },
          "execution_count": 52
        }
      ]
    },
    {
      "cell_type": "code",
      "metadata": {
        "id": "J35kKAgCQuc2"
      },
      "source": [
        "t_sp = t.split(' ')\n",
        "print(t_sp)\n",
        "\n",
        "## วิธีรวมกลับ\n",
        "\n",
        "print(':'.join(t_sp))"
      ],
      "execution_count": null,
      "outputs": []
    },
    {
      "cell_type": "markdown",
      "metadata": {
        "id": "xCH7oCMJksbv"
      },
      "source": [
        "###HW"
      ]
    },
    {
      "cell_type": "markdown",
      "metadata": {
        "id": "JM1x5m8HlYrr"
      },
      "source": [
        "คำนวณเวลาเป็นวินาทีของเวลาต่อไปนี้โดยใช้คำสั่ง split() ช่วย\n",
        "12:30:15\n",
        "13:41:07\n",
        "12:53:15\n",
        "00:59:25\n",
        "11:11:11\n",
        "16:06:09"
      ]
    },
    {
      "cell_type": "markdown",
      "metadata": {
        "id": "bBsLzQvEWIgR"
      },
      "source": [
        "1. ทำทีละช่วงเวลา"
      ]
    },
    {
      "cell_type": "code",
      "metadata": {
        "colab": {
          "base_uri": "https://localhost:8080/"
        },
        "id": "TXOwFEzyWH1J",
        "outputId": "146cbd85-cd07-4641-d461-40dfd539cb54"
      },
      "source": [
        "#1\n",
        "Time = '12:30:15' \n",
        "list1 = Time.split(':') #ทำการแบ่งโดยให้ใช้เครื่องหมาย (:) \n",
        "H=list1[0]\n",
        "HH=int(H)*3600 #1 ชม. = 3600 วินาที , 1 นาที = 60 วินาที\n",
        "M=list1[1]\n",
        "MM=int(M)*60\n",
        "S=list1[2]\n",
        "SS=int(S)\n",
        "print(f'12:30:15 คิดเป็นวินาทีได้เท่ากับ {HH+MM+SS} วินาที')"
      ],
      "execution_count": null,
      "outputs": [
        {
          "output_type": "stream",
          "text": [
            "12:30:15 คิดเป็นวินาทีได้เท่ากับ 45015 วินาที\n"
          ],
          "name": "stdout"
        }
      ]
    },
    {
      "cell_type": "code",
      "metadata": {
        "id": "Z_54KrB7jXsL",
        "colab": {
          "base_uri": "https://localhost:8080/"
        },
        "outputId": "2bd6cd31-b41d-4fd3-d83b-97972cbbfcdd"
      },
      "source": [
        "#2\n",
        "Time2 = '13:41:07'\n",
        "list2 = Time2.split(':') \n",
        "H2=list2[0]\n",
        "HH2=int(H2)*3600\n",
        "M2=list2[1]\n",
        "MM2=int(M2)*60\n",
        "S2=list2[2]\n",
        "SS2=int(S2)\n",
        "print(f'13:41:07 คิดป็นวินาทีได้เท่ากับ {HH2+MM2+SS2} วินาที')"
      ],
      "execution_count": null,
      "outputs": [
        {
          "output_type": "stream",
          "text": [
            "13:41:07 คิดป็นวินาทีได้เท่ากับ 49267 วินาที\n"
          ],
          "name": "stdout"
        }
      ]
    },
    {
      "cell_type": "code",
      "metadata": {
        "colab": {
          "base_uri": "https://localhost:8080/"
        },
        "id": "UHtHLr8QjYvv",
        "outputId": "e9a20973-ea3b-4bb0-e2b0-6b953867eb68"
      },
      "source": [
        "#3\n",
        "Time3 = '12:53:15' \n",
        "list3 = Time3.split(':') \n",
        "H3=list3[0]\n",
        "HH3=int(H3)*3600\n",
        "M3=list3[1]\n",
        "MM3=int(M3)*60\n",
        "S3=list3[2]\n",
        "SS3=int(S3)\n",
        "print(f'12:53:15 คิดเป็นวินาทีได้เท่ากับ {HH3+MM3+SS3} วินาที')"
      ],
      "execution_count": null,
      "outputs": [
        {
          "output_type": "stream",
          "text": [
            "12:53:15 คิดเป็นวินาทีได้เท่ากับ 46395 วินาที\n"
          ],
          "name": "stdout"
        }
      ]
    },
    {
      "cell_type": "code",
      "metadata": {
        "id": "-S2MteswqL28",
        "colab": {
          "base_uri": "https://localhost:8080/"
        },
        "outputId": "ab493e83-03ed-4827-8ccb-b0d804d33f7f"
      },
      "source": [
        "#4\n",
        "Time4 = '00:59:25' \n",
        "list4 = Time4.split(':') \n",
        "H4=list4[0]\n",
        "HH4=int(H4)*3600\n",
        "M4=list4[1]\n",
        "MM4=int(M4)*60\n",
        "S4=list4[2]\n",
        "SS4=int(S4)\n",
        "print(f'00:59:25 คิดเป็นวินาทีได้เท่ากับ {HH4+MM4+SS4} วินาที')"
      ],
      "execution_count": null,
      "outputs": [
        {
          "output_type": "stream",
          "text": [
            "00:59:25 คิดเป็นวินาทีได้เท่ากับ 3565 วินาที\n"
          ],
          "name": "stdout"
        }
      ]
    },
    {
      "cell_type": "code",
      "metadata": {
        "id": "8uJ7NEqnqpxm",
        "colab": {
          "base_uri": "https://localhost:8080/"
        },
        "outputId": "f4ea75da-a6f3-44bd-c171-c7ee30ee07c7"
      },
      "source": [
        "#5\n",
        "Time5 = '11:11:11' \n",
        "list5 = Time5.split(':') \n",
        "H5=list5[0]\n",
        "HH5=int(H5)*3600\n",
        "M5=list5[1]\n",
        "MM5=int(M5)*60\n",
        "S5=list5[2]\n",
        "SS5=int(S5)\n",
        "print(f'11:11:11 คิดเป็นวินาทีได้เท่ากับ {HH5+MM5+SS5} วินาที')"
      ],
      "execution_count": null,
      "outputs": [
        {
          "output_type": "stream",
          "text": [
            "11:11:11 คิดเป็นวินาทีได้เท่ากับ 40271 วินาที\n"
          ],
          "name": "stdout"
        }
      ]
    },
    {
      "cell_type": "code",
      "metadata": {
        "id": "V9jgJ3yFsr8j",
        "colab": {
          "base_uri": "https://localhost:8080/"
        },
        "outputId": "8cb70921-b534-46ab-ce51-5e45af1aa0e8"
      },
      "source": [
        "#6\n",
        "Time6 = '16:06:09'\n",
        "list6 = Time6.split(':') \n",
        "H6=list6[0]\n",
        "HH6=int(H6)*3600\n",
        "M6=list6[1]\n",
        "MM6=int(M6)*60\n",
        "S6=list6[2]\n",
        "SS6=int(S6)\n",
        "print(f'16:06:09 คิดเป็นวินาทีได้เท่ากับ {HH6+MM6+SS6} วินาที')"
      ],
      "execution_count": null,
      "outputs": [
        {
          "output_type": "stream",
          "text": [
            "16:06:09 คิดเป็นวินาทีได้เท่ากับ 57969 วินาที\n"
          ],
          "name": "stdout"
        }
      ]
    },
    {
      "cell_type": "markdown",
      "metadata": {
        "id": "auigmTNCW5CQ"
      },
      "source": [
        "2.ทำรวมทีเดียว โดยใช้def คือ การเก็บโค้ดที่เขียนไปแล้วเก็บไว้ใน function แล้วเรียกใช้ใหม่"
      ]
    },
    {
      "cell_type": "code",
      "metadata": {
        "id": "okOYqMS3kyzx"
      },
      "source": [
        "def time(t) :\n",
        "      list_t = t.split(':') #ทำการแบ่งโดยให้ใช้เครื่องหมาย (:)  \n",
        "      hour = (int(list_t[0])*3600)  #ให้ t ที่ทำการแบ่งด้วย (:) มาอยู่ในรูปของ int แล้วให้ list แต่ละตัว*กับวินาที\n",
        "      minute = (int(list_t[1])*60)  #1 ชม. = 3600 วินาที , 1 นาที = 60 วินาที\n",
        "      second = (int(list_t[2]))  \n",
        "      time = f'{t} คำนวณเวลาได้เป็น {hour+minute+second} วินาที' # เพิ่ม f และใช้ {} เพื่อใส่ code ตามด้วย str 'วินาที'\n",
        "      print(time)"
      ],
      "execution_count": null,
      "outputs": []
    },
    {
      "cell_type": "code",
      "metadata": {
        "colab": {
          "base_uri": "https://localhost:8080/"
        },
        "id": "TLbDHbD1Tlxp",
        "outputId": "859216ee-5dd5-478f-adb7-50c0b183e954"
      },
      "source": [
        "time('12:30:15') #ข้อ1 \n",
        "time('13:41:07') #2\n",
        "time('12:53:15') #3\n",
        "time('00:59:25') #4\n",
        "time('11:11:11') #5\n",
        "time('16:06:09') #6"
      ],
      "execution_count": null,
      "outputs": [
        {
          "output_type": "stream",
          "text": [
            "12:30:15 คำนวณเวลาได้เป็น 45015 วินาที\n",
            "13:41:07 คำนวณเวลาได้เป็น 49267 วินาที\n",
            "12:53:15 คำนวณเวลาได้เป็น 46395 วินาที\n",
            "00:59:25 คำนวณเวลาได้เป็น 3565 วินาที\n",
            "11:11:11 คำนวณเวลาได้เป็น 40271 วินาที\n",
            "16:06:09 คำนวณเวลาได้เป็น 57969 วินาที\n"
          ],
          "name": "stdout"
        }
      ]
    },
    {
      "cell_type": "markdown",
      "metadata": {
        "id": "XOEhOZY4q3LL"
      },
      "source": [
        "##NEW HW"
      ]
    },
    {
      "cell_type": "markdown",
      "metadata": {
        "id": "bV5GWzM0qvg2"
      },
      "source": [
        "ให้สร้าง list ของเวลา ['12:30:15' , '13:41:07' , ... ] แล้ววนลูปเรียกฟังก์ชั่น คำนวณเวลาเป็นวินาที"
      ]
    },
    {
      "cell_type": "code",
      "metadata": {
        "id": "q_kU9Vbqq8d8"
      },
      "source": [
        "Time1 = '12:30:15' \n",
        "Time2 = '13:41:07'\n",
        "Time3 = '12:53:15'\n",
        "Time4 = '00:59:25'\n",
        "Time5 = '11:11:11'\n",
        "Time6 = '16:06:09'"
      ],
      "execution_count": null,
      "outputs": []
    },
    {
      "cell_type": "code",
      "metadata": {
        "id": "FrH-XEXtr01S",
        "colab": {
          "base_uri": "https://localhost:8080/"
        },
        "outputId": "11d096a2-93db-4879-bfa7-6ff2d7823f18"
      },
      "source": [
        "list_t = []                          #กำหนด list_t ให้เป็น list ว่าง \n",
        "for i in [Time1, Time2, Time3, Time4, Time5, Time6]:    #วนลูป เริ่มจาก i ตัวแรกคือ Time1 ไปจนถึง Time6\n",
        "  list_t.append(i)                #ให้เพิ่มค่าที่อยู่ใน i จากตัวแรก ไปจนถึงตัวสุดท้าย เข้าไปใน list_t\n",
        "print(list_t)                        #เมื่อวนลูปเพิ่มค่า i ครบทุกตัวแล้ว ให้แสดงค่าที่อยู่ใน list_t"
      ],
      "execution_count": null,
      "outputs": [
        {
          "output_type": "stream",
          "text": [
            "['12:30:15', '13:41:07', '12:53:15', '00:59:25', '11:11:11', '16:06:09']\n"
          ],
          "name": "stdout"
        }
      ]
    },
    {
      "cell_type": "code",
      "metadata": {
        "id": "MSFCS_zNsPRv",
        "colab": {
          "base_uri": "https://localhost:8080/"
        },
        "outputId": "707c9fa5-187b-48f3-ee4c-10d847d6d916"
      },
      "source": [
        "for i in list_t:          #วนลูปค่า i ทุกค่าที่อยู่ใน list_t \n",
        "  time(i)          #นำค่าที่อยู่ใน i เข้าไปในฟังก์ชั่น time\n",
        "#i เริ่มจากข้อมูลตัวเลขที่อยู่ใน list_t จะถูกนำเข้าไปใน ฟังก์ชั่น time_second เพื่อเปลี่ยนให้เวลากลายเป็นวินาที"
      ],
      "execution_count": null,
      "outputs": [
        {
          "output_type": "stream",
          "text": [
            "12:30:15 คำนวณเวลาได้เป็น 45015 วินาที\n",
            "13:41:07 คำนวณเวลาได้เป็น 49267 วินาที\n",
            "12:53:15 คำนวณเวลาได้เป็น 46395 วินาที\n",
            "00:59:25 คำนวณเวลาได้เป็น 3565 วินาที\n",
            "11:11:11 คำนวณเวลาได้เป็น 40271 วินาที\n",
            "16:06:09 คำนวณเวลาได้เป็น 57969 วินาที\n"
          ],
          "name": "stdout"
        }
      ]
    }
  ]
}