{
  "nbformat": 4,
  "nbformat_minor": 0,
  "metadata": {
    "colab": {
      "name": "Python101.ipynb",
      "provenance": [],
      "authorship_tag": "ABX9TyNFHnP3zzZAUftewotyyfVg",
      "include_colab_link": true
    },
    "kernelspec": {
      "name": "python3",
      "display_name": "Python 3"
    }
  },
  "cells": [
    {
      "cell_type": "markdown",
      "metadata": {
        "id": "view-in-github",
        "colab_type": "text"
      },
      "source": [
        "<a href=\"https://colab.research.google.com/github/MMoltira/data_viz/blob/main/Python101.ipynb\" target=\"_parent\"><img src=\"https://colab.research.google.com/assets/colab-badge.svg\" alt=\"Open In Colab\"/></a>"
      ]
    },
    {
      "cell_type": "markdown",
      "metadata": {
        "id": "ZPV_8ExDMva_"
      },
      "source": [
        "# Variables\r\n",
        "\r\n",
        "ตัวแปร เก็บข้อมูล 1 ตัว เช่น ตัวเลข ตัวหนังสือ"
      ]
    },
    {
      "cell_type": "code",
      "metadata": {
        "colab": {
          "base_uri": "https://localhost:8080/"
        },
        "id": "ELFjLoC5NNmS",
        "outputId": "60c377be-6181-425a-b0c5-4ff7d7c9a1bb"
      },
      "source": [
        "3.14159265359"
      ],
      "execution_count": 12,
      "outputs": [
        {
          "output_type": "execute_result",
          "data": {
            "text/plain": [
              "3.14159265359"
            ]
          },
          "metadata": {
            "tags": []
          },
          "execution_count": 12
        }
      ]
    },
    {
      "cell_type": "markdown",
      "metadata": {
        "id": "304uDYM3NoE8"
      },
      "source": [
        "### หลักการตั้งชื่อตัวแปรเบื้องต้น\r\n",
        "\r\n",
        "\r\n",
        "1.   ตั้งให้สื่อ\r\n",
        "2.   ภาษาอังกฤษ\r\n",
        "3.   ใช้ตัวเลขได้ แต่ห้ามขึ้นต้นด้วยตัวเลข \r\n",
        "4.   หัวเว้นวรรค\r\n",
        "\r\n"
      ]
    },
    {
      "cell_type": "code",
      "metadata": {
        "id": "kzAUAFgcNff2"
      },
      "source": [
        "pi = 3.14159265359\r\n",
        "#ตั้งชื่อตัวแปรเพื่อมารับค่า  3.14159265359 โดยใช้ชื่อตัวแปร pi"
      ],
      "execution_count": 13,
      "outputs": []
    },
    {
      "cell_type": "code",
      "metadata": {
        "colab": {
          "base_uri": "https://localhost:8080/"
        },
        "id": "4_mX4TyOOgpi",
        "outputId": "50a3404a-8e6a-4009-c598-e1f49f32b37a"
      },
      "source": [
        "pi"
      ],
      "execution_count": 14,
      "outputs": [
        {
          "output_type": "execute_result",
          "data": {
            "text/plain": [
              "3.14159265359"
            ]
          },
          "metadata": {
            "tags": []
          },
          "execution_count": 14
        }
      ]
    },
    {
      "cell_type": "markdown",
      "metadata": {
        "id": "f-5diD4MOrY4"
      },
      "source": [
        "# ชนิดตัวแปร"
      ]
    },
    {
      "cell_type": "markdown",
      "metadata": {
        "id": "Z4PENkZ5M2Ie"
      },
      "source": [
        "## int : จำนวนเต็ม"
      ]
    },
    {
      "cell_type": "code",
      "metadata": {
        "id": "3JB7Bv-VMpkL"
      },
      "source": [
        "a = 10 "
      ],
      "execution_count": 15,
      "outputs": []
    },
    {
      "cell_type": "code",
      "metadata": {
        "colab": {
          "base_uri": "https://localhost:8080/"
        },
        "id": "W25tBhqsNCs_",
        "outputId": "189ef91e-c8de-4306-d7d3-e20eb98e84fa"
      },
      "source": [
        "print(a)"
      ],
      "execution_count": 16,
      "outputs": [
        {
          "output_type": "stream",
          "text": [
            "10\n"
          ],
          "name": "stdout"
        }
      ]
    },
    {
      "cell_type": "markdown",
      "metadata": {
        "id": "OIGFJ61fO4ux"
      },
      "source": [
        "## float : จำนวนจริงที่เป็นทศนิยม"
      ]
    },
    {
      "cell_type": "code",
      "metadata": {
        "colab": {
          "base_uri": "https://localhost:8080/"
        },
        "id": "Oa0M-P3hPAQ4",
        "outputId": "52fefd5d-9065-4126-88a9-f0b67914ef23"
      },
      "source": [
        "b = 10.\r\n",
        "print(b)"
      ],
      "execution_count": 17,
      "outputs": [
        {
          "output_type": "stream",
          "text": [
            "10.0\n"
          ],
          "name": "stdout"
        }
      ]
    },
    {
      "cell_type": "markdown",
      "metadata": {
        "id": "5qP9SfikPSQE"
      },
      "source": [
        "## char : ข้อความหรือตัวอักษร\r\n",
        "\r\n",
        "-> # hashtag, sharp ใช้สำหรับคอมเม้น"
      ]
    },
    {
      "cell_type": "code",
      "metadata": {
        "colab": {
          "base_uri": "https://localhost:8080/"
        },
        "id": "5aloIN9mPAKx",
        "outputId": "798b1853-b94f-4dcb-eca6-f0eb25a7cf26"
      },
      "source": [
        "c = 'OHH' #เราจะบอกว่าตัวแปรเป็นตัวอักษรหรือข้อความโดยการใช้ single quote '....' หรือ double quot \"...\" ล้อมรอบ\r\n",
        "print(c)"
      ],
      "execution_count": 18,
      "outputs": [
        {
          "output_type": "stream",
          "text": [
            "OHH\n"
          ],
          "name": "stdout"
        }
      ]
    },
    {
      "cell_type": "code",
      "metadata": {
        "colab": {
          "base_uri": "https://localhost:8080/"
        },
        "id": "sAr8JJh6Q8ao",
        "outputId": "0535d0ec-fea7-40c1-96c4-311db696ea09"
      },
      "source": [
        "d = '10'\r\n",
        "print(d)"
      ],
      "execution_count": 19,
      "outputs": [
        {
          "output_type": "stream",
          "text": [
            "10\n"
          ],
          "name": "stdout"
        }
      ]
    },
    {
      "cell_type": "code",
      "metadata": {
        "colab": {
          "base_uri": "https://localhost:8080/",
          "height": 163
        },
        "id": "Dc6g-TBRUEuS",
        "outputId": "25ab2273-0b89-4f6a-a260-e41eaf3e4837"
      },
      "source": [
        "d+1"
      ],
      "execution_count": 20,
      "outputs": [
        {
          "output_type": "error",
          "ename": "TypeError",
          "evalue": "ignored",
          "traceback": [
            "\u001b[0;31m---------------------------------------------------------------------------\u001b[0m",
            "\u001b[0;31mTypeError\u001b[0m                                 Traceback (most recent call last)",
            "\u001b[0;32m<ipython-input-20-1e06e37b4525>\u001b[0m in \u001b[0;36m<module>\u001b[0;34m()\u001b[0m\n\u001b[0;32m----> 1\u001b[0;31m \u001b[0md\u001b[0m\u001b[0;34m+\u001b[0m\u001b[0;36m1\u001b[0m\u001b[0;34m\u001b[0m\u001b[0;34m\u001b[0m\u001b[0m\n\u001b[0m",
            "\u001b[0;31mTypeError\u001b[0m: must be str, not int"
          ]
        }
      ]
    },
    {
      "cell_type": "markdown",
      "metadata": {
        "id": "N0N8zxlkPiCh"
      },
      "source": [
        "## variable casting การเปลี่ยนชนิดตัวแปร\r\n",
        "\r\n",
        " การเปลี่ยน char เป็น int"
      ]
    },
    {
      "cell_type": "code",
      "metadata": {
        "colab": {
          "base_uri": "https://localhost:8080/"
        },
        "id": "ZglDp96kPACo",
        "outputId": "80f8f0e3-6888-4625-b530-ff36fab785b4"
      },
      "source": [
        "ch = 10\r\n",
        "ch"
      ],
      "execution_count": 21,
      "outputs": [
        {
          "output_type": "execute_result",
          "data": {
            "text/plain": [
              "10"
            ]
          },
          "metadata": {
            "tags": []
          },
          "execution_count": 21
        }
      ]
    },
    {
      "cell_type": "code",
      "metadata": {
        "colab": {
          "base_uri": "https://localhost:8080/"
        },
        "id": "WFtxdRuORhu8",
        "outputId": "860cc2c0-4317-44ef-efee-bf3d7cb538fc"
      },
      "source": [
        "int(ch)"
      ],
      "execution_count": 22,
      "outputs": [
        {
          "output_type": "execute_result",
          "data": {
            "text/plain": [
              "10"
            ]
          },
          "metadata": {
            "tags": []
          },
          "execution_count": 22
        }
      ]
    },
    {
      "cell_type": "code",
      "metadata": {
        "colab": {
          "base_uri": "https://localhost:8080/"
        },
        "id": "Pr_eLW2aR8Yo",
        "outputId": "490e9533-c465-4226-f0cd-3b66732ee70a"
      },
      "source": [
        "int(d) + 1"
      ],
      "execution_count": 23,
      "outputs": [
        {
          "output_type": "execute_result",
          "data": {
            "text/plain": [
              "11"
            ]
          },
          "metadata": {
            "tags": []
          },
          "execution_count": 23
        }
      ]
    },
    {
      "cell_type": "markdown",
      "metadata": {
        "id": "ooMIjnGfSHRh"
      },
      "source": [
        "## เปลี่ยน int เป็น float"
      ]
    },
    {
      "cell_type": "code",
      "metadata": {
        "colab": {
          "base_uri": "https://localhost:8080/"
        },
        "id": "Yi3cdkZnSHE1",
        "outputId": "99b78d7c-1be8-4731-a7a9-f785918d27e9"
      },
      "source": [
        "print(a)\r\n",
        "print(float(a))\r\n",
        "print(str(a))"
      ],
      "execution_count": 24,
      "outputs": [
        {
          "output_type": "stream",
          "text": [
            "10\n",
            "10.0\n",
            "10\n"
          ],
          "name": "stdout"
        }
      ]
    },
    {
      "cell_type": "markdown",
      "metadata": {
        "id": "0_W5Gwu0Sah0"
      },
      "source": [
        "## Operation การเอาตัวแปรสองตัวมาบวก ลบ คูณ หาร\r\n",
        "## Operator +,-,*,/,%"
      ]
    },
    {
      "cell_type": "code",
      "metadata": {
        "colab": {
          "base_uri": "https://localhost:8080/"
        },
        "id": "0T2kP-vWSHAk",
        "outputId": "ab9be4c4-ef75-47a2-90cb-c4a0186cc24e"
      },
      "source": [
        "a+b"
      ],
      "execution_count": 25,
      "outputs": [
        {
          "output_type": "execute_result",
          "data": {
            "text/plain": [
              "20.0"
            ]
          },
          "metadata": {
            "tags": []
          },
          "execution_count": 25
        }
      ]
    },
    {
      "cell_type": "code",
      "metadata": {
        "colab": {
          "base_uri": "https://localhost:8080/"
        },
        "id": "KtAYnONiSG61",
        "outputId": "9ec3e457-8242-49b4-9e8c-1c73708addb2"
      },
      "source": [
        "ab = a+b\r\n",
        "print(ab)"
      ],
      "execution_count": 26,
      "outputs": [
        {
          "output_type": "stream",
          "text": [
            "20.0\n"
          ],
          "name": "stdout"
        }
      ]
    },
    {
      "cell_type": "markdown",
      "metadata": {
        "id": "hPE4wCgVS-3Z"
      },
      "source": [
        "### % คือ เครื่องหมาย modulo การหารเอาเศษ"
      ]
    },
    {
      "cell_type": "code",
      "metadata": {
        "colab": {
          "base_uri": "https://localhost:8080/"
        },
        "id": "0_Hl-vvfSG0Y",
        "outputId": "423c7cca-c0d8-49c7-87e2-9e04349bae49"
      },
      "source": [
        "5%3"
      ],
      "execution_count": 29,
      "outputs": [
        {
          "output_type": "execute_result",
          "data": {
            "text/plain": [
              "2"
            ]
          },
          "metadata": {
            "tags": []
          },
          "execution_count": 29
        }
      ]
    },
    {
      "cell_type": "code",
      "metadata": {
        "colab": {
          "base_uri": "https://localhost:8080/"
        },
        "id": "lJee3lGrTHSu",
        "outputId": "f16f2d42-4809-4127-8480-556ac1793df3"
      },
      "source": [
        "7%3"
      ],
      "execution_count": 30,
      "outputs": [
        {
          "output_type": "execute_result",
          "data": {
            "text/plain": [
              "1"
            ]
          },
          "metadata": {
            "tags": []
          },
          "execution_count": 30
        }
      ]
    },
    {
      "cell_type": "markdown",
      "metadata": {
        "id": "ThTb9wstTaqj"
      },
      "source": [
        "## คำสั่ง print แบบพิเศษ (การ format string)"
      ]
    },
    {
      "cell_type": "code",
      "metadata": {
        "colab": {
          "base_uri": "https://localhost:8080/"
        },
        "id": "V3mBk9uITP4n",
        "outputId": "e2b0346a-cd28-4bd5-a463-a8087eac25a2"
      },
      "source": [
        "print('ตัวแปร') # สิงที่อยู่ในวงเล็บคือ ตัวแปร และ string"
      ],
      "execution_count": 31,
      "outputs": [
        {
          "output_type": "stream",
          "text": [
            "ตัวแปร\n"
          ],
          "name": "stdout"
        }
      ]
    },
    {
      "cell_type": "code",
      "metadata": {
        "colab": {
          "base_uri": "https://localhost:8080/"
        },
        "id": "ORlgaPvqTkkD",
        "outputId": "7031366b-62b1-4ce0-ac10-cc90ca7bdc58"
      },
      "source": [
        "print(f'% คือ การหารเอาเศษ เช่น 7%3 = {7%3}')\r\n",
        "# เพิ่ม f หน้า 'string' และใช้ {} เพื่อใส่ code"
      ],
      "execution_count": 32,
      "outputs": [
        {
          "output_type": "stream",
          "text": [
            "% คือ การหารเอาเศษ เช่น 7%3 = 1\n"
          ],
          "name": "stdout"
        }
      ]
    },
    {
      "cell_type": "code",
      "metadata": {
        "colab": {
          "base_uri": "https://localhost:8080/"
        },
        "id": "J6ZThfzkTkhL",
        "outputId": "3909c285-1a74-4d50-84f2-b7fe2ea45049"
      },
      "source": [
        "print(f'% คือ การหารเอาเศษ เช่น 7%3 = {7%3} \\n แต่ / คือ การหารปกติ เช่น 7/3 = {7/3}' ) # \\n คือ การขึ้นบรรทัดใหม่"
      ],
      "execution_count": 33,
      "outputs": [
        {
          "output_type": "stream",
          "text": [
            "% คือ การหารเอาเศษ เช่น 7%3 = 1 \n",
            " แต่ / คือ การหารปกติ เช่น 7/3 = 2.3333333333333335\n"
          ],
          "name": "stdout"
        }
      ]
    },
    {
      "cell_type": "code",
      "metadata": {
        "id": "xlufPxprTkVr",
        "colab": {
          "base_uri": "https://localhost:8080/"
        },
        "outputId": "89040ee8-4cb9-437d-d223-1668616133d9"
      },
      "source": [
        "print(f'% คือ การหารเอาเศษ เช่น 7%3 = {7%3} \\n แต่ / คือ การหารปกติ เช่น 7/3 = {7/3} \\\\\r\n",
        "  และ \\n// เลือกการหารเอาส่วน เช่น 7//3 = {7//3}\\\\ หรือ \\nใช้ int เพื่อหารเอาส่วน เช่น {int(7/3)}')"
      ],
      "execution_count": 34,
      "outputs": [
        {
          "output_type": "stream",
          "text": [
            "% คือ การหารเอาเศษ เช่น 7%3 = 1 \n",
            " แต่ / คือ การหารปกติ เช่น 7/3 = 2.3333333333333335 \\  และ \n",
            "// เลือกการหารเอาส่วน เช่น 7//3 = 2\\ หรือ \n",
            "ใช้ int เพื่อหารเอาส่วน เช่น 2\n"
          ],
          "name": "stdout"
        }
      ]
    },
    {
      "cell_type": "markdown",
      "metadata": {
        "id": "zwmu8_LsbU3g"
      },
      "source": [
        "DATA STRURE (โครงสร้างข้อมูล)"
      ]
    },
    {
      "cell_type": "markdown",
      "metadata": {
        "id": "FLUBSm6GbeEa"
      },
      "source": [
        "List คือ การเอาตัวแปรหลายๆตัวมาต่อกัน  list สร้างได้ 2แบบ ดังนี้"
      ]
    },
    {
      "cell_type": "markdown",
      "metadata": {
        "id": "5IBj4ORPbs78"
      },
      "source": [
        "แบบที่ 1 > square brackets"
      ]
    },
    {
      "cell_type": "code",
      "metadata": {
        "id": "D9dIVkilZGWf"
      },
      "source": [
        "list_a = []"
      ],
      "execution_count": 35,
      "outputs": []
    },
    {
      "cell_type": "code",
      "metadata": {
        "colab": {
          "base_uri": "https://localhost:8080/"
        },
        "id": "EXW4V48xb5H9",
        "outputId": "948b00f9-4235-4faf-e0dd-be54409a8a17"
      },
      "source": [
        "list_b = [1,5,'v']\r\n",
        "print(list_b)"
      ],
      "execution_count": 36,
      "outputs": [
        {
          "output_type": "stream",
          "text": [
            "[1, 5, 'v']\n"
          ],
          "name": "stdout"
        }
      ]
    },
    {
      "cell_type": "markdown",
      "metadata": {
        "id": "Hair7cSpcIak"
      },
      "source": [
        "ลำดับที่อยู่ในลิสต์มีความสำคัญ"
      ]
    },
    {
      "cell_type": "markdown",
      "metadata": {
        "id": "0-uLgZqkcSZU"
      },
      "source": [
        "### ลำดับที่อยู่ในลิสต์ มีความสำคัญ (ลำดับในลิสต์ เริ่มจาก 0,1,2,...)"
      ]
    },
    {
      "cell_type": "code",
      "metadata": {
        "colab": {
          "base_uri": "https://localhost:8080/"
        },
        "id": "EwVQ4I7kcF6E",
        "outputId": "d00b5480-0f4e-4817-a307-05ea2f45628c"
      },
      "source": [
        "list_b[1]"
      ],
      "execution_count": 37,
      "outputs": [
        {
          "output_type": "execute_result",
          "data": {
            "text/plain": [
              "5"
            ]
          },
          "metadata": {
            "tags": []
          },
          "execution_count": 37
        }
      ]
    },
    {
      "cell_type": "markdown",
      "metadata": {
        "id": "7OkjO1TCci5N"
      },
      "source": [
        "แบบที่ 2"
      ]
    },
    {
      "cell_type": "code",
      "metadata": {
        "colab": {
          "base_uri": "https://localhost:8080/"
        },
        "id": "RHgrDHXFchB3",
        "outputId": "406c2e96-c7d6-4707-ccab-b3c64fa2e200"
      },
      "source": [
        "list_c = list()\r\n",
        "print(list_c)"
      ],
      "execution_count": 38,
      "outputs": [
        {
          "output_type": "stream",
          "text": [
            "[]\n"
          ],
          "name": "stdout"
        }
      ]
    },
    {
      "cell_type": "markdown",
      "metadata": {
        "id": "zThaGAcOdBJC"
      },
      "source": [
        "append() เพิ่มสมาชิกในลิสต์"
      ]
    },
    {
      "cell_type": "code",
      "metadata": {
        "colab": {
          "base_uri": "https://localhost:8080/"
        },
        "id": "5Bqi1hkQdHQ_",
        "outputId": "6bcfc1bd-360f-4e1e-8311-72920e156455"
      },
      "source": [
        "list_b.append('u')\r\n",
        "print(list_b)"
      ],
      "execution_count": 39,
      "outputs": [
        {
          "output_type": "stream",
          "text": [
            "[1, 5, 'v', 'u']\n"
          ],
          "name": "stdout"
        }
      ]
    },
    {
      "cell_type": "code",
      "metadata": {
        "colab": {
          "base_uri": "https://localhost:8080/",
          "height": 35
        },
        "id": "Kf8IDuLpdeuq",
        "outputId": "4492a302-fdfa-49e5-fef2-70dc10696566"
      },
      "source": [
        "list_b.pop()"
      ],
      "execution_count": 40,
      "outputs": [
        {
          "output_type": "execute_result",
          "data": {
            "application/vnd.google.colaboratory.intrinsic+json": {
              "type": "string"
            },
            "text/plain": [
              "'u'"
            ]
          },
          "metadata": {
            "tags": []
          },
          "execution_count": 40
        }
      ]
    },
    {
      "cell_type": "code",
      "metadata": {
        "colab": {
          "base_uri": "https://localhost:8080/"
        },
        "id": "IZw9acVvdjmi",
        "outputId": "014d5041-68b1-44f4-8002-c05aa9997244"
      },
      "source": [
        "list_b"
      ],
      "execution_count": 41,
      "outputs": [
        {
          "output_type": "execute_result",
          "data": {
            "text/plain": [
              "[1, 5, 'v']"
            ]
          },
          "metadata": {
            "tags": []
          },
          "execution_count": 41
        }
      ]
    },
    {
      "cell_type": "code",
      "metadata": {
        "colab": {
          "base_uri": "https://localhost:8080/"
        },
        "id": "8Sj5mp21U2Oz",
        "outputId": "50096948-f9d0-4add-8d34-b647e79b2b29"
      },
      "source": [
        "list_b.append(list_a)\r\n",
        "print(list_b)"
      ],
      "execution_count": 42,
      "outputs": [
        {
          "output_type": "stream",
          "text": [
            "[1, 5, 'v', []]\n"
          ],
          "name": "stdout"
        }
      ]
    },
    {
      "cell_type": "markdown",
      "metadata": {
        "id": "pNyUKxS7d3vb"
      },
      "source": [
        "String> list of characters"
      ]
    },
    {
      "cell_type": "code",
      "metadata": {
        "colab": {
          "base_uri": "https://localhost:8080/"
        },
        "id": "HtIs18h-U84G",
        "outputId": "d6e7aee3-17c3-4ea5-ee3a-a728d6775d5c"
      },
      "source": [
        "len(list_b) # len คือคำสั่งตรวจสอบความยาวของ list (จำนวนสมาชิก)"
      ],
      "execution_count": 43,
      "outputs": [
        {
          "output_type": "execute_result",
          "data": {
            "text/plain": [
              "4"
            ]
          },
          "metadata": {
            "tags": []
          },
          "execution_count": 43
        }
      ]
    },
    {
      "cell_type": "code",
      "metadata": {
        "colab": {
          "base_uri": "https://localhost:8080/",
          "height": 35
        },
        "id": "APcdGgVRd-1Z",
        "outputId": "7c81fc9b-18ce-428b-c1bb-426de0c3c322"
      },
      "source": [
        "t='prthon is easy'\r\n",
        "t"
      ],
      "execution_count": 44,
      "outputs": [
        {
          "output_type": "execute_result",
          "data": {
            "application/vnd.google.colaboratory.intrinsic+json": {
              "type": "string"
            },
            "text/plain": [
              "'prthon is easy'"
            ]
          },
          "metadata": {
            "tags": []
          },
          "execution_count": 44
        }
      ]
    },
    {
      "cell_type": "code",
      "metadata": {
        "colab": {
          "base_uri": "https://localhost:8080/"
        },
        "id": "EffsxiJAetvf",
        "outputId": "75071fb3-aa95-4d88-adcb-57825514d9f1"
      },
      "source": [
        "len(t)"
      ],
      "execution_count": 46,
      "outputs": [
        {
          "output_type": "execute_result",
          "data": {
            "text/plain": [
              "14"
            ]
          },
          "metadata": {
            "tags": []
          },
          "execution_count": 46
        }
      ]
    },
    {
      "cell_type": "markdown",
      "metadata": {
        "id": "3yBGNNLhe3M-"
      },
      "source": [
        "access a member of a list (list&string)\r\n",
        "โดยการเริ่มนับจาก 0 โดย 0 คือสมาชิกตัวแรก , -1 คือสมาชิกตัวสุดท้าบ"
      ]
    },
    {
      "cell_type": "code",
      "metadata": {
        "colab": {
          "base_uri": "https://localhost:8080/",
          "height": 35
        },
        "id": "rATKYzBrfV-P",
        "outputId": "738fe16b-7ef9-4a16-cbe0-332d90759b3a"
      },
      "source": [
        "t[1]"
      ],
      "execution_count": 47,
      "outputs": [
        {
          "output_type": "execute_result",
          "data": {
            "application/vnd.google.colaboratory.intrinsic+json": {
              "type": "string"
            },
            "text/plain": [
              "'r'"
            ]
          },
          "metadata": {
            "tags": []
          },
          "execution_count": 47
        }
      ]
    },
    {
      "cell_type": "code",
      "metadata": {
        "colab": {
          "base_uri": "https://localhost:8080/",
          "height": 35
        },
        "id": "0rphelIre28Q",
        "outputId": "ca2b0e74-95cc-45a5-f1a9-39a563cb5fa4"
      },
      "source": [
        "t[-1]"
      ],
      "execution_count": 48,
      "outputs": [
        {
          "output_type": "execute_result",
          "data": {
            "application/vnd.google.colaboratory.intrinsic+json": {
              "type": "string"
            },
            "text/plain": [
              "'y'"
            ]
          },
          "metadata": {
            "tags": []
          },
          "execution_count": 48
        }
      ]
    },
    {
      "cell_type": "code",
      "metadata": {
        "colab": {
          "base_uri": "https://localhost:8080/",
          "height": 35
        },
        "id": "S9QDJbXnfkCz",
        "outputId": "626e70ee-9d1b-4461-c290-696b326e6367"
      },
      "source": [
        "t[-4]"
      ],
      "execution_count": 49,
      "outputs": [
        {
          "output_type": "execute_result",
          "data": {
            "application/vnd.google.colaboratory.intrinsic+json": {
              "type": "string"
            },
            "text/plain": [
              "'e'"
            ]
          },
          "metadata": {
            "tags": []
          },
          "execution_count": 49
        }
      ]
    },
    {
      "cell_type": "markdown",
      "metadata": {
        "id": "gTuvqVaUgFWq"
      },
      "source": [
        "ตัวที่อยู่ข้างใน [] เราเรียกว่า index (ตัวชี้)"
      ]
    },
    {
      "cell_type": "markdown",
      "metadata": {
        "id": "nQNEo_mEgWD3"
      },
      "source": [
        "### List slicing สามารถทำได้โดยใช้ colon : [a:b] -> (a,b)"
      ]
    },
    {
      "cell_type": "code",
      "metadata": {
        "id": "0Fhhke0mgUdM",
        "colab": {
          "base_uri": "https://localhost:8080/"
        },
        "outputId": "978e4509-3496-4dc6-e33a-1fa4bbb6c122"
      },
      "source": [
        "print(t)\r\n",
        "print(t[7:9])"
      ],
      "execution_count": 50,
      "outputs": [
        {
          "output_type": "stream",
          "text": [
            "prthon is easy\n",
            "is\n"
          ],
          "name": "stdout"
        }
      ]
    },
    {
      "cell_type": "markdown",
      "metadata": {
        "id": "cvoJNIXWiPxv"
      },
      "source": [
        "ถ้าเว้นว่างหน้า : หมายความว่า เริ่มตั้งแต่ตัวแรก\r\n",
        "ถ้าเว้นว่างหลัง : หมายความว่าไปจนถึงตัวสุดท้าย"
      ]
    },
    {
      "cell_type": "code",
      "metadata": {
        "colab": {
          "base_uri": "https://localhost:8080/"
        },
        "id": "2Aqd80f0ihvt",
        "outputId": "a19d9293-2be3-470b-ecfc-6136c378e374"
      },
      "source": [
        "print(t)\r\n",
        "print(t[:6])\r\n",
        "print(t[10:])\r\n",
        "print(t[-4:])\r\n",
        "print(t[:])"
      ],
      "execution_count": 51,
      "outputs": [
        {
          "output_type": "stream",
          "text": [
            "prthon is easy\n",
            "prthon\n",
            "easy\n",
            "easy\n",
            "prthon is easy\n"
          ],
          "name": "stdout"
        }
      ]
    },
    {
      "cell_type": "markdown",
      "metadata": {
        "id": "Ood4rp6Qi99-"
      },
      "source": [
        "###เราสามารถเอา ลิสต์ มาต่อกันด้วย +"
      ]
    },
    {
      "cell_type": "code",
      "metadata": {
        "colab": {
          "base_uri": "https://localhost:8080/",
          "height": 35
        },
        "id": "YPImgXRfjI45",
        "outputId": "6d43edd0-efd1-4a8d-bfb0-982d164b7502"
      },
      "source": [
        "t+ '??'"
      ],
      "execution_count": 52,
      "outputs": [
        {
          "output_type": "execute_result",
          "data": {
            "application/vnd.google.colaboratory.intrinsic+json": {
              "type": "string"
            },
            "text/plain": [
              "'prthon is easy??'"
            ]
          },
          "metadata": {
            "tags": []
          },
          "execution_count": 52
        }
      ]
    },
    {
      "cell_type": "code",
      "metadata": {
        "id": "pT2pm6rAjf2X",
        "colab": {
          "base_uri": "https://localhost:8080/",
          "height": 163
        },
        "outputId": "eb36d261-d21f-453e-cf14-546542a7dd54"
      },
      "source": [
        "t+list_b #ไม่สามารถเอามาต่อกับสตริง"
      ],
      "execution_count": 53,
      "outputs": [
        {
          "output_type": "error",
          "ename": "TypeError",
          "evalue": "ignored",
          "traceback": [
            "\u001b[0;31m---------------------------------------------------------------------------\u001b[0m",
            "\u001b[0;31mTypeError\u001b[0m                                 Traceback (most recent call last)",
            "\u001b[0;32m<ipython-input-53-a565f6aa67f2>\u001b[0m in \u001b[0;36m<module>\u001b[0;34m()\u001b[0m\n\u001b[0;32m----> 1\u001b[0;31m \u001b[0mt\u001b[0m\u001b[0;34m+\u001b[0m\u001b[0mlist_b\u001b[0m \u001b[0;31m#ไม่สามารถเอามาต่อกับสตริง\u001b[0m\u001b[0;34m\u001b[0m\u001b[0;34m\u001b[0m\u001b[0m\n\u001b[0m",
            "\u001b[0;31mTypeError\u001b[0m: must be str, not list"
          ]
        }
      ]
    },
    {
      "cell_type": "code",
      "metadata": {
        "colab": {
          "base_uri": "https://localhost:8080/"
        },
        "id": "wvGBoI_2jOum",
        "outputId": "8bb54e7d-e721-42cb-f4b9-bd67245cb08b"
      },
      "source": [
        "list_b+list_b"
      ],
      "execution_count": 54,
      "outputs": [
        {
          "output_type": "execute_result",
          "data": {
            "text/plain": [
              "[1, 5, 'v', [], 1, 5, 'v', []]"
            ]
          },
          "metadata": {
            "tags": []
          },
          "execution_count": 54
        }
      ]
    },
    {
      "cell_type": "markdown",
      "metadata": {
        "id": "GhscOUy-jrSG"
      },
      "source": [
        "การแบ่ง string ตามสัญลักษณ์ที่กำหนด ->split string (c)"
      ]
    },
    {
      "cell_type": "code",
      "metadata": {
        "colab": {
          "base_uri": "https://localhost:8080/"
        },
        "id": "hUacInPLjqM3",
        "outputId": "f3b5bd56-ca33-4e59-d081-613fcbe7c884"
      },
      "source": [
        "t.split(' ')"
      ],
      "execution_count": 55,
      "outputs": [
        {
          "output_type": "execute_result",
          "data": {
            "text/plain": [
              "['prthon', 'is', 'easy']"
            ]
          },
          "metadata": {
            "tags": []
          },
          "execution_count": 55
        }
      ]
    },
    {
      "cell_type": "code",
      "metadata": {
        "id": "qOmUFpwFkIUp"
      },
      "source": [
        "time='12:30:15'"
      ],
      "execution_count": 56,
      "outputs": []
    },
    {
      "cell_type": "code",
      "metadata": {
        "colab": {
          "base_uri": "https://localhost:8080/"
        },
        "id": "4Fi7OcVwkOXE",
        "outputId": "9824cbb6-a4d1-4c5c-cc46-75618c38652d"
      },
      "source": [
        "time.split(':')"
      ],
      "execution_count": 57,
      "outputs": [
        {
          "output_type": "execute_result",
          "data": {
            "text/plain": [
              "['12', '30', '15']"
            ]
          },
          "metadata": {
            "tags": []
          },
          "execution_count": 57
        }
      ]
    },
    {
      "cell_type": "markdown",
      "metadata": {
        "id": "xCH7oCMJksbv"
      },
      "source": [
        "###HW"
      ]
    },
    {
      "cell_type": "markdown",
      "metadata": {
        "id": "JM1x5m8HlYrr"
      },
      "source": [
        "คำนวณเวลาเป็นวินาทีของเวลาต่อไปนี้โดยใช้คำสั่ง split() ช่วย\r\n",
        "12:30:15\r\n",
        "13:41:07\r\n",
        "12:53:15\r\n",
        "00:59:25\r\n",
        "11:11:11\r\n",
        "16:06:09"
      ]
    },
    {
      "cell_type": "markdown",
      "metadata": {
        "id": "bBsLzQvEWIgR"
      },
      "source": [
        "1. ทำทีละช่วงเวลา"
      ]
    },
    {
      "cell_type": "code",
      "metadata": {
        "colab": {
          "base_uri": "https://localhost:8080/"
        },
        "id": "TXOwFEzyWH1J",
        "outputId": "145ff3fe-6e4a-469b-b0dc-62968f08e6c0"
      },
      "source": [
        "#1\r\n",
        "Time = '12:30:15' \r\n",
        "list1 = Time.split(':') #ทำการแบ่งโดยให้ใช้เครื่องหมาย (:) \r\n",
        "H=list1[0]\r\n",
        "HH=int(H)*3600 #1 ชม. = 3600 วินาที , 1 นาที = 60 วินาที\r\n",
        "M=list1[1]\r\n",
        "MM=int(M)*60\r\n",
        "S=list1[2]\r\n",
        "SS=int(S)\r\n",
        "print(f'12:30:15 คิดเป็นวินาทีได้เท่ากับ {HH+MM+SS} วินาที')"
      ],
      "execution_count": 86,
      "outputs": [
        {
          "output_type": "stream",
          "text": [
            "12:30:15 คิดเป็นวินาทีได้เท่ากับ 45015 วินาที\n"
          ],
          "name": "stdout"
        }
      ]
    },
    {
      "cell_type": "code",
      "metadata": {
        "id": "Z_54KrB7jXsL",
        "outputId": "768ddd75-d227-4b88-b6a9-9f3305aaa4a3",
        "colab": {
          "base_uri": "https://localhost:8080/"
        }
      },
      "source": [
        "#2\r\n",
        "Time2 = '13:41:07'\r\n",
        "list2 = Time2.split(':') \r\n",
        "H2=list2[0]\r\n",
        "HH2=int(H2)*3600\r\n",
        "M2=list2[1]\r\n",
        "MM2=int(M2)*60\r\n",
        "S2=list2[2]\r\n",
        "SS2=int(S1)\r\n",
        "print(f'13:41:07 คิดป็นวินาทีได้เท่ากับ {HH2+MM2+SS2} วินาที')"
      ],
      "execution_count": 89,
      "outputs": [
        {
          "output_type": "stream",
          "text": [
            "13:41:07 คิดป็นวินาทีได้เท่ากับ 49275 วินาที\n"
          ],
          "name": "stdout"
        }
      ]
    },
    {
      "cell_type": "code",
      "metadata": {
        "colab": {
          "base_uri": "https://localhost:8080/"
        },
        "id": "UHtHLr8QjYvv",
        "outputId": "0f8a2ea2-4ac4-4b36-fe94-860d79b97e05"
      },
      "source": [
        "#3\r\n",
        "Time3 = '12:53:15' \r\n",
        "list3 = Time3.split(':') \r\n",
        "H3=list3[0]\r\n",
        "HH3=int(H3)*3600\r\n",
        "M3=list3[1]\r\n",
        "MM3=int(M3)*60\r\n",
        "S3=list3[2]\r\n",
        "SS3=int(S3)\r\n",
        "print(f'12:53:15 คิดเป็นวินาทีได้เท่ากับ {HH3+MM3+SS3} วินาที')"
      ],
      "execution_count": 93,
      "outputs": [
        {
          "output_type": "stream",
          "text": [
            "12:53:15 คิดเป็นวินาทีได้เท่ากับ 46395 วินาที\n"
          ],
          "name": "stdout"
        }
      ]
    },
    {
      "cell_type": "code",
      "metadata": {
        "id": "-S2MteswqL28",
        "outputId": "9cb233f5-4358-4e72-ecca-39d23ff3ca40",
        "colab": {
          "base_uri": "https://localhost:8080/"
        }
      },
      "source": [
        "#4\r\n",
        "Time4 = '00:59:25' \r\n",
        "list4 = Time4.split(':') \r\n",
        "H4=list4[0]\r\n",
        "HH4=int(H4)*3600\r\n",
        "M4=list4[1]\r\n",
        "MM4=int(M4)*60\r\n",
        "S4=list4[2]\r\n",
        "SS4=int(S4)\r\n",
        "print(f'00:59:25 คิดเป็นวินาทีได้เท่ากับ {HH4+MM4+SS4} วินาที')"
      ],
      "execution_count": 94,
      "outputs": [
        {
          "output_type": "stream",
          "text": [
            "00:59:25 คิดเป็นวินาทีได้เท่ากับ 3565 วินาที\n"
          ],
          "name": "stdout"
        }
      ]
    },
    {
      "cell_type": "code",
      "metadata": {
        "id": "8uJ7NEqnqpxm",
        "outputId": "87d6df92-0a9d-4afb-a3e4-c54bbe762482",
        "colab": {
          "base_uri": "https://localhost:8080/"
        }
      },
      "source": [
        "#5\r\n",
        "Time5 = '11:11:11' \r\n",
        "list5 = Time5.split(':') \r\n",
        "H5=list5[0]\r\n",
        "HH5=int(H5)*3600\r\n",
        "M5=list5[1]\r\n",
        "MM5=int(M5)*60\r\n",
        "S5=list5[2]\r\n",
        "SS5=int(S5)\r\n",
        "print(f'11:11:11 คิดเป็นวินาทีได้เท่ากับ {HH5+MM5+SS5} วินาที')"
      ],
      "execution_count": 95,
      "outputs": [
        {
          "output_type": "stream",
          "text": [
            "11:11:11 คิดเป็นวินาทีได้เท่ากับ 40271 วินาที\n"
          ],
          "name": "stdout"
        }
      ]
    },
    {
      "cell_type": "code",
      "metadata": {
        "id": "V9jgJ3yFsr8j",
        "outputId": "f1077914-8c77-4b24-9bfd-2e2afb9cc391",
        "colab": {
          "base_uri": "https://localhost:8080/"
        }
      },
      "source": [
        "#6\r\n",
        "Time6 = '16:06:09'\r\n",
        "list6 = Time6.split(':') \r\n",
        "H6=list6[0]\r\n",
        "HH6=int(H6)*3600\r\n",
        "M6=list6[1]\r\n",
        "MM6=int(M6)*60\r\n",
        "S6=list6[2]\r\n",
        "SS6=int(S6)\r\n",
        "print(f'16:06:09 คิดเป็นวินาทีได้เท่ากับ {HH6+MM6+SS6} วินาที')"
      ],
      "execution_count": 96,
      "outputs": [
        {
          "output_type": "stream",
          "text": [
            "16:06:09 คิดเป็นวินาทีได้เท่ากับ 57969 วินาที\n"
          ],
          "name": "stdout"
        }
      ]
    },
    {
      "cell_type": "markdown",
      "metadata": {
        "id": "auigmTNCW5CQ"
      },
      "source": [
        "2.ทำรวมทีเดียว โดยใช้def คือ การเก็บโค้ดที่เขียนไปแล้วเก็บไว้ใน function แล้วเรียกใช้ใหม่"
      ]
    },
    {
      "cell_type": "code",
      "metadata": {
        "id": "okOYqMS3kyzx"
      },
      "source": [
        "def time(t) :\r\n",
        "      list_t = t.split(':') #ทำการแบ่งโดยให้ใช้เครื่องหมาย (:)  \r\n",
        "      hour = (int(list_t[0])*3600)  #ให้ t ที่ทำการแบ่งด้วย (:) มาอยู่ในรูปของ int แล้วให้ list แต่ละตัว*กับวินาที\r\n",
        "      minute = (int(list_t[1])*60)  #1 ชม. = 3600 วินาที , 1 นาที = 60 วินาที\r\n",
        "      second = (int(list_t[2]))  \r\n",
        "      time = f'{t} คำนวณเวลาได้เป็น {hour+minute+second} วินาที' # เพิ่ม f และใช้ {} เพื่อใส่ code ตามด้วย str 'วินาที'\r\n",
        "      print(time)"
      ],
      "execution_count": 70,
      "outputs": []
    },
    {
      "cell_type": "code",
      "metadata": {
        "colab": {
          "base_uri": "https://localhost:8080/"
        },
        "id": "TLbDHbD1Tlxp",
        "outputId": "e3ea2501-c8c1-4a70-9c6b-6bb84b6e1374"
      },
      "source": [
        "time('12:30:15') #ข้อ1 \r\n",
        "time('13:41:07') #2\r\n",
        "time('12:53:15') #3\r\n",
        "time('00:59:25') #4\r\n",
        "time('11:11:11') #5\r\n",
        "time('16:06:09') #6"
      ],
      "execution_count": 71,
      "outputs": [
        {
          "output_type": "stream",
          "text": [
            "12:30:15 คำนวณเวลาได้เป็น 45015 วินาที\n",
            "13:41:07 คำนวณเวลาได้เป็น 49267 วินาที\n",
            "12:53:15 คำนวณเวลาได้เป็น 46395 วินาที\n",
            "00:59:25 คำนวณเวลาได้เป็น 3565 วินาที\n",
            "11:11:11 คำนวณเวลาได้เป็น 40271 วินาที\n",
            "16:06:09 คำนวณเวลาได้เป็น 57969 วินาที\n"
          ],
          "name": "stdout"
        }
      ]
    }
  ]
}