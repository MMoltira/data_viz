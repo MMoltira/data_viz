{
  "nbformat": 4,
  "nbformat_minor": 0,
  "metadata": {
    "colab": {
      "name": "Intro.ipynb",
      "provenance": [],
      "authorship_tag": "ABX9TyP1nrdeH92C1NRAOEzi5v4e",
      "include_colab_link": true
    },
    "kernelspec": {
      "name": "python3",
      "display_name": "Python 3"
    }
  },
  "cells": [
    {
      "cell_type": "markdown",
      "metadata": {
        "id": "view-in-github",
        "colab_type": "text"
      },
      "source": [
        "<a href=\"https://colab.research.google.com/github/MMoltira/data_viz/blob/main/Intro.ipynb\" target=\"_parent\"><img src=\"https://colab.research.google.com/assets/colab-badge.svg\" alt=\"Open In Colab\"/></a>"
      ]
    },
    {
      "cell_type": "markdown",
      "metadata": {
        "id": "W4BiBMESL5Dz"
      },
      "source": [
        "มลทิรา  ใสสอน  613021019-9"
      ]
    },
    {
      "cell_type": "markdown",
      "metadata": {
        "id": "6rFZtI7NNA21"
      },
      "source": [
        "ภาษา Markdown เป็นกึ่งเท็กกึ่งโปรแกรมมิ่ง\r\n",
        "# Markdown\r\n",
        "## Markdown\r\n",
        "~strike~"
      ]
    },
    {
      "cell_type": "code",
      "metadata": {
        "colab": {
          "base_uri": "https://localhost:8080/"
        },
        "id": "V8LnGzS2K-MK",
        "outputId": "be20e69f-44ec-4dbb-f642-5e1665bed2fa"
      },
      "source": [
        "print('มลทิรา')"
      ],
      "execution_count": 1,
      "outputs": [
        {
          "output_type": "stream",
          "text": [
            "มลทิรา\n"
          ],
          "name": "stdout"
        }
      ]
    },
    {
      "cell_type": "code",
      "metadata": {
        "id": "nM_XpKLuO2Wq"
      },
      "source": [
        ""
      ],
      "execution_count": null,
      "outputs": []
    }
  ]
}