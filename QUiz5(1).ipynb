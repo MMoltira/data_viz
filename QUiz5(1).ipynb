{
  "nbformat": 4,
  "nbformat_minor": 0,
  "metadata": {
    "colab": {
      "name": "QUiz5(1).ipynb",
      "provenance": [],
      "authorship_tag": "ABX9TyNC8JWoHeUYCvX13bPRkmfR",
      "include_colab_link": true
    },
    "kernelspec": {
      "name": "python3",
      "display_name": "Python 3"
    },
    "language_info": {
      "name": "python"
    }
  },
  "cells": [
    {
      "cell_type": "markdown",
      "metadata": {
        "id": "view-in-github",
        "colab_type": "text"
      },
      "source": [
        "<a href=\"https://colab.research.google.com/github/MMoltira/data_viz/blob/main/QUiz5(1).ipynb\" target=\"_parent\"><img src=\"https://colab.research.google.com/assets/colab-badge.svg\" alt=\"Open In Colab\"/></a>"
      ]
    },
    {
      "cell_type": "code",
      "metadata": {
        "id": "Hcg1r-4-6X12"
      },
      "source": [
        ""
      ],
      "execution_count": null,
      "outputs": []
    },
    {
      "cell_type": "code",
      "metadata": {
        "id": "X_R8jgw7dz5q"
      },
      "source": [
        "import pandas"
      ],
      "execution_count": 1,
      "outputs": []
    },
    {
      "cell_type": "code",
      "metadata": {
        "id": "z5gCL5Ibd6D9",
        "colab": {
          "base_uri": "https://localhost:8080/"
        },
        "outputId": "354d4382-5520-4989-f43b-e5f25450e981"
      },
      "source": [
        "from google.colab import drive #เชื่อม Drive\n",
        "drive.mount('/content/drive')\n"
      ],
      "execution_count": 2,
      "outputs": [
        {
          "output_type": "stream",
          "text": [
            "Mounted at /content/drive\n"
          ],
          "name": "stdout"
        }
      ]
    },
    {
      "cell_type": "code",
      "metadata": {
        "id": "9JB1ucd89jf1"
      },
      "source": [
        "path='/content/drive/My Drive/DWDM_material'"
      ],
      "execution_count": 3,
      "outputs": []
    },
    {
      "cell_type": "code",
      "metadata": {
        "id": "dlj-ciNgcyIy"
      },
      "source": [
        "import os\n",
        "import pandas # เรียกใช้ฟังก์ชัน"
      ],
      "execution_count": 5,
      "outputs": []
    },
    {
      "cell_type": "code",
      "metadata": {
        "id": "DBurPfoOdO5-"
      },
      "source": [
        "example_timestamp = os.path.join(path,'example_timestamp.csv') #สร้างที่อยู่โดยใช้ os.path.join"
      ],
      "execution_count": 6,
      "outputs": []
    },
    {
      "cell_type": "code",
      "metadata": {
        "id": "zzF6ydsHd8ZM"
      },
      "source": [
        "example_timestamp_df = pandas.read_csv(example_timestamp)"
      ],
      "execution_count": 7,
      "outputs": []
    },
    {
      "cell_type": "code",
      "metadata": {
        "id": "CqTK-gJjeFRc",
        "colab": {
          "base_uri": "https://localhost:8080/",
          "height": 248
        },
        "outputId": "6be09d6a-37ad-4d58-e7d7-980f2e779239"
      },
      "source": [
        "example_timestamp_df"
      ],
      "execution_count": 8,
      "outputs": [
        {
          "output_type": "execute_result",
          "data": {
            "text/html": [
              "<div>\n",
              "<style scoped>\n",
              "    .dataframe tbody tr th:only-of-type {\n",
              "        vertical-align: middle;\n",
              "    }\n",
              "\n",
              "    .dataframe tbody tr th {\n",
              "        vertical-align: top;\n",
              "    }\n",
              "\n",
              "    .dataframe thead th {\n",
              "        text-align: right;\n",
              "    }\n",
              "</style>\n",
              "<table border=\"1\" class=\"dataframe\">\n",
              "  <thead>\n",
              "    <tr style=\"text-align: right;\">\n",
              "      <th></th>\n",
              "      <th>Unnamed: 0</th>\n",
              "      <th>alpha</th>\n",
              "      <th>beta</th>\n",
              "    </tr>\n",
              "  </thead>\n",
              "  <tbody>\n",
              "    <tr>\n",
              "      <th>0</th>\n",
              "      <td>2020-05-29</td>\n",
              "      <td>8.78</td>\n",
              "      <td>24</td>\n",
              "    </tr>\n",
              "    <tr>\n",
              "      <th>1</th>\n",
              "      <td>2020-05-30</td>\n",
              "      <td>13.00</td>\n",
              "      <td>25</td>\n",
              "    </tr>\n",
              "    <tr>\n",
              "      <th>2</th>\n",
              "      <td>2020-05-31</td>\n",
              "      <td>0.44</td>\n",
              "      <td>25</td>\n",
              "    </tr>\n",
              "    <tr>\n",
              "      <th>3</th>\n",
              "      <td>2020-06-01</td>\n",
              "      <td>1.94</td>\n",
              "      <td>28</td>\n",
              "    </tr>\n",
              "    <tr>\n",
              "      <th>4</th>\n",
              "      <td>2020-06-02</td>\n",
              "      <td>5.40</td>\n",
              "      <td>20</td>\n",
              "    </tr>\n",
              "    <tr>\n",
              "      <th>5</th>\n",
              "      <td>2020-06-03</td>\n",
              "      <td>5.68</td>\n",
              "      <td>21</td>\n",
              "    </tr>\n",
              "    <tr>\n",
              "      <th>6</th>\n",
              "      <td>2020-06-04</td>\n",
              "      <td>2.64</td>\n",
              "      <td>16</td>\n",
              "    </tr>\n",
              "  </tbody>\n",
              "</table>\n",
              "</div>"
            ],
            "text/plain": [
              "   Unnamed: 0  alpha  beta\n",
              "0  2020-05-29   8.78    24\n",
              "1  2020-05-30  13.00    25\n",
              "2  2020-05-31   0.44    25\n",
              "3  2020-06-01   1.94    28\n",
              "4  2020-06-02   5.40    20\n",
              "5  2020-06-03   5.68    21\n",
              "6  2020-06-04   2.64    16"
            ]
          },
          "metadata": {
            "tags": []
          },
          "execution_count": 8
        }
      ]
    },
    {
      "cell_type": "code",
      "metadata": {
        "id": "AjxOvopm_Rfa"
      },
      "source": [
        "class Sample:\n",
        "    def __init__(self, x, t):\n",
        "        self.location = x\n",
        "        self.time = t\n",
        "\n",
        "    def __repr__(self):\n",
        "        return f\"Sample({self.location}, {self.time})\"\n",
        "\n",
        "\n",
        "class AlphaBetaFilter:\n",
        "    def __init__(self, init_sample, alpha=1, beta=0.1, velocity=1):\n",
        "        self.alpha = alpha\n",
        "        self.beta = beta\n",
        "        self.velocity_list = [velocity]\n",
        "        self.sample_list = [init_sample]\n",
        "        self.locations = [init_sample.location]\n",
        "        self.errors = []\n",
        "        self.predictions = []\n",
        "\n",
        "    @property\n",
        "    def last_sample(self):\n",
        "        return self.sample_list[-1]\n",
        "\n",
        "    @property\n",
        "    def last_velocity(self):\n",
        "        return self.velocity_list[-1]\n",
        "\n",
        "    def add_sample(self, s: Sample):\n",
        "        delta_t = s.time - self.last_sample.time\n",
        "        expected_location = self.predict(delta_t)\n",
        "        error = s.location - expected_location\n",
        "        location = expected_location + self.alpha * error\n",
        "        v = self.last_velocity + (self.beta / delta_t) * error\n",
        "\n",
        "        # for debugging and results\n",
        "        self.velocity_list.append(v)\n",
        "        self.locations.append(location)\n",
        "        self.sample_list.append(s)\n",
        "        self.errors.append(error)\n",
        "\n",
        "    def predict(self, t):\n",
        "        prediction = self.last_sample.location + (t * self.last_velocity)\n",
        "\n",
        "        # for debugging and results\n",
        "        self.predictions.append(prediction)\n",
        "        return prediction"
      ],
      "execution_count": 9,
      "outputs": []
    },
    {
      "cell_type": "code",
      "metadata": {
        "id": "vf1XzAZX_bln"
      },
      "source": [
        "import numpy as np\n",
        "pie_x = np.linspace(0, np.pi * 3, 50)\n",
        "t_loc = np.sin(pie_x)\n",
        "error_loc = t_loc * (np.random.randint(950, 1050, 50) / 1000.0)  # creates error in data\n",
        "samples = [Sample(loc, t) for t, loc in enumerate(error_loc)]  # create samples list"
      ],
      "execution_count": 10,
      "outputs": []
    },
    {
      "cell_type": "code",
      "metadata": {
        "id": "6U-BP4w-_h3w"
      },
      "source": [
        "tracker = AlphaBetaFilter(samples[0], alpha=0.85, beta=0.5, velocity=0.5)  # initiate a tracker\n",
        "for sample in samples[1:]:\n",
        "    tracker.add_sample(sample)  # tracking in \"real time\""
      ],
      "execution_count": 11,
      "outputs": []
    }
  ]
}