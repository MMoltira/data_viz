{
  "nbformat": 4,
  "nbformat_minor": 0,
  "metadata": {
    "colab": {
      "name": "Function_Loop_Conditional.ipynb",
      "provenance": [],
      "authorship_tag": "ABX9TyOByFzsaxNil4gbRpchbX5T",
      "include_colab_link": true
    },
    "kernelspec": {
      "name": "python3",
      "display_name": "Python 3"
    }
  },
  "cells": [
    {
      "cell_type": "markdown",
      "metadata": {
        "id": "view-in-github",
        "colab_type": "text"
      },
      "source": [
        "<a href=\"https://colab.research.google.com/github/MMoltira/data_viz/blob/main/Function_Loop_Conditional.ipynb\" target=\"_parent\"><img src=\"https://colab.research.google.com/assets/colab-badge.svg\" alt=\"Open In Colab\"/></a>"
      ]
    },
    {
      "cell_type": "markdown",
      "metadata": {
        "id": "swOZKc3phu2A"
      },
      "source": [
        "Function template"
      ]
    },
    {
      "cell_type": "markdown",
      "metadata": {
        "id": "QUU4QFi0h0p2"
      },
      "source": [
        "ทำหน้าที่นับอินพุท มาปนะมวณผลออกมาเป็นเอ้าพุท  f(x)=y"
      ]
    },
    {
      "cell_type": "markdown",
      "metadata": {
        "id": "ML5alG4EiCKQ"
      },
      "source": [
        "def คือการกำหนดฟังก์ชัน"
      ]
    },
    {
      "cell_type": "code",
      "metadata": {
        "id": "FMfuH0LEgOg5"
      },
      "source": [
        "def function_name(_Input_):\r\n",
        "  do_something with _Input_ to get _Output_\r\n",
        "  return _Output_"
      ],
      "execution_count": null,
      "outputs": []
    },
    {
      "cell_type": "markdown",
      "metadata": {
        "id": "7Q59S3Anna2_"
      },
      "source": [
        "function มีส่วนสำคัญทั้งหมด 4 ส่วน\r\n",
        "1. บอก python ว่าเราจะเขียนฟังชันชื่ออะไร \r\n",
        "2. กำหนดตัวแปลที่จะเป็น input\r\n",
        "3. ส่วนประมวลผล\r\n",
        "4. ส่วนเอ้าพุท รีเทิร์น"
      ]
    },
    {
      "cell_type": "markdown",
      "metadata": {
        "id": "tqFU42c8q3xq"
      },
      "source": [
        "ฟังชันไม่จำเป็นต้องมีเอ้าพุท"
      ]
    },
    {
      "cell_type": "code",
      "metadata": {
        "id": "INLEN6GenUhy"
      },
      "source": [
        "def print_name(surname,ID,name):\r\n",
        "  st=f'ชื่อ {name} นามสกุล {surname} รหัส {ID}'\r\n",
        "  return st"
      ],
      "execution_count": null,
      "outputs": []
    },
    {
      "cell_type": "code",
      "metadata": {
        "colab": {
          "base_uri": "https://localhost:8080/",
          "height": 33
        },
        "id": "c0CCMyProFsY",
        "outputId": "1b7e804f-a7d2-4a5b-b493-9815ce0e9d04"
      },
      "source": [
        "print_name('ใสสอน','613021019-9','มลทิรา')"
      ],
      "execution_count": null,
      "outputs": [
        {
          "output_type": "execute_result",
          "data": {
            "application/vnd.google.colaboratory.intrinsic+json": {
              "type": "string"
            },
            "text/plain": [
              "'ชื่อ มลทิรา นามสกุล ใสสอน รหัส 613021019-9'"
            ]
          },
          "metadata": {
            "tags": []
          },
          "execution_count": 7
        }
      ]
    },
    {
      "cell_type": "markdown",
      "metadata": {
        "id": "3t4z61Vlqrzr"
      },
      "source": [
        "เราใช้เว้นวรรค เพื่อบอกขอบเขตของโปรแกรม"
      ]
    },
    {
      "cell_type": "markdown",
      "metadata": {
        "id": "0wOHW4qVrUAM"
      },
      "source": [
        "ฟังชันไม่จำเป็นต้องมี input"
      ]
    },
    {
      "cell_type": "code",
      "metadata": {
        "id": "QJ8S8xEIrIyA"
      },
      "source": [
        "def Pi():\r\n",
        "  return 3.14159265359"
      ],
      "execution_count": null,
      "outputs": []
    },
    {
      "cell_type": "code",
      "metadata": {
        "colab": {
          "base_uri": "https://localhost:8080/"
        },
        "id": "7zA8o0AsrmAV",
        "outputId": "6afdc68c-159c-4159-d90c-77c8ccd90612"
      },
      "source": [
        "Pi()*(2**2) #หาพื้นที่ของวงกลมที่มีรัศมีเท่ากับ Pi * r^2 "
      ],
      "execution_count": null,
      "outputs": [
        {
          "output_type": "execute_result",
          "data": {
            "text/plain": [
              "12.56637061436"
            ]
          },
          "metadata": {
            "tags": []
          },
          "execution_count": 11
        }
      ]
    },
    {
      "cell_type": "code",
      "metadata": {
        "id": "QHH_v-6KtP1S"
      },
      "source": [
        "def print_2line_defsult(name,surname,ID,grade) :\r\n",
        "  st1=f'ชื่อ {name} นามสกุล {surname} รหัส {ID}'\r\n",
        "  print (st1)\r\n",
        "  st2 = f'เกรดวิชา Data Viz >>> {grade}' # f 'เกรดวิชา Data Viz >>> {grade}'\r\n",
        "  print (st2)"
      ],
      "execution_count": null,
      "outputs": []
    },
    {
      "cell_type": "code",
      "metadata": {
        "colab": {
          "base_uri": "https://localhost:8080/"
        },
        "id": "Ncfm6DUcxCT6",
        "outputId": "77aed4d4-0c32-4286-a539-19d4ad96ae17"
      },
      "source": [
        "print_2line_defsult('มลทิรา','ใสสอน','613021019-9','A')"
      ],
      "execution_count": null,
      "outputs": [
        {
          "output_type": "stream",
          "text": [
            "ชื่อ มลทิรา นามสกุล ใสสอน รหัส 613021019-9\n",
            "เกรดวิชา Data Viz >>> A\n"
          ],
          "name": "stdout"
        }
      ]
    },
    {
      "cell_type": "markdown",
      "metadata": {
        "id": "k_eUMrPM1hrr"
      },
      "source": [
        "Loop การวนซ้ำ\r\n",
        " for เป็นคำที่ใช้บอก python ว่าเรากำลังเขียน loop โดย for"
      ]
    },
    {
      "cell_type": "code",
      "metadata": {
        "colab": {
          "base_uri": "https://localhost:8080/"
        },
        "id": "ldxn_yHP11db",
        "outputId": "f299781f-2dfc-4121-b9a7-955525340750"
      },
      "source": [
        "for i in [1,2,3]:\r\n",
        "  print (f'this member = {i} after process = {i**2}')"
      ],
      "execution_count": null,
      "outputs": [
        {
          "output_type": "stream",
          "text": [
            "this member = 1 after process = 1\n",
            "this member = 2 after process = 4\n",
            "this member = 3 after process = 9\n"
          ],
          "name": "stdout"
        }
      ]
    },
    {
      "cell_type": "code",
      "metadata": {
        "colab": {
          "base_uri": "https://localhost:8080/"
        },
        "id": "N0_7zhsJ2T8T",
        "outputId": "994474e6-21cb-48db-aff3-e66995d8046f"
      },
      "source": [
        "for i in [1,2,3]:\r\n",
        "  o = i**2\r\n",
        "  print (f'this member = {i} after process = {o}')"
      ],
      "execution_count": null,
      "outputs": [
        {
          "output_type": "stream",
          "text": [
            "this member = 1 after process = 1\n",
            "this member = 2 after process = 4\n",
            "this member = 3 after process = 9\n"
          ],
          "name": "stdout"
        }
      ]
    },
    {
      "cell_type": "markdown",
      "metadata": {
        "id": "0bnNtPW3V5Fw"
      },
      "source": [
        "ตัวอย่างการใช้ for ในการวนซ้ำค่าของ i เมื่อ i คือ Moltira และคำสั่ง print (f{i}->/) เพื่อกำหนดให้ผลลัพธ์แสดงสัญลักษณ์ -> / จากนั้นเพิ่มคำสั่ง print()"
      ]
    },
    {
      "cell_type": "code",
      "metadata": {
        "id": "HEkttE1SW_gh",
        "colab": {
          "base_uri": "https://localhost:8080/"
        },
        "outputId": "ca9ef451-2575-4bdd-def0-6d8123681be4"
      },
      "source": [
        "for i in 'Moltira':\r\n",
        "    print(f'{i} -> / ' )\r\n",
        "    print('  ')"
      ],
      "execution_count": 4,
      "outputs": [
        {
          "output_type": "stream",
          "text": [
            "M -> / \n",
            "  \n",
            "o -> / \n",
            "  \n",
            "l -> / \n",
            "  \n",
            "t -> / \n",
            "  \n",
            "i -> / \n",
            "  \n",
            "r -> / \n",
            "  \n",
            "a -> / \n",
            "  \n"
          ],
          "name": "stdout"
        }
      ]
    },
    {
      "cell_type": "code",
      "metadata": {
        "id": "g7JpSSCmXPkC",
        "colab": {
          "base_uri": "https://localhost:8080/"
        },
        "outputId": "8a49f609-e8ca-48e4-d456-f6c74b1beb6e"
      },
      "source": [
        "for i in 'Moltira':\r\n",
        "    print(f'{i} -> / ' ,end='') #สั่งให้printไม่เว้นบรรทัด"
      ],
      "execution_count": 6,
      "outputs": [
        {
          "output_type": "stream",
          "text": [
            "M -> / o -> / l -> / t -> / i -> / r -> / a -> / "
          ],
          "name": "stdout"
        }
      ]
    },
    {
      "cell_type": "markdown",
      "metadata": {
        "id": "zb1zn8XCYXNH"
      },
      "source": [
        "###สร้าง list ตัวเลขแบบอัตโนมัติ range()"
      ]
    },
    {
      "cell_type": "code",
      "metadata": {
        "id": "W5l5nzR3YlLG",
        "colab": {
          "base_uri": "https://localhost:8080/"
        },
        "outputId": "9b34c6f9-8e3a-4403-80b2-d91cd4b91139"
      },
      "source": [
        "range5_output = range(5)\r\n",
        "print(list(range5_output))"
      ],
      "execution_count": null,
      "outputs": [
        {
          "output_type": "stream",
          "text": [
            "[0, 1, 2, 3, 4]\n"
          ],
          "name": "stdout"
        }
      ]
    },
    {
      "cell_type": "code",
      "metadata": {
        "id": "nyu9rzm_ZHNr",
        "colab": {
          "base_uri": "https://localhost:8080/"
        },
        "outputId": "745df1f8-bd0d-4357-a416-a49822634177"
      },
      "source": [
        "for i in range(100) :\r\n",
        "  print('งง',end=' ')"
      ],
      "execution_count": null,
      "outputs": [
        {
          "output_type": "stream",
          "text": [
            "งง งง งง งง งง งง งง งง งง งง งง งง งง งง งง งง งง งง งง งง งง งง งง งง งง งง งง งง งง งง งง งง งง งง งง งง งง งง งง งง งง งง งง งง งง งง งง งง งง งง งง งง งง งง งง งง งง งง งง งง งง งง งง งง งง งง งง งง งง งง งง งง งง งง งง งง งง งง งง งง งง งง งง งง งง งง งง งง งง งง งง งง งง งง งง งง งง งง งง งง "
          ],
          "name": "stdout"
        }
      ]
    },
    {
      "cell_type": "code",
      "metadata": {
        "id": "RFVk0J18Zk9d",
        "colab": {
          "base_uri": "https://localhost:8080/"
        },
        "outputId": "08215584-16ae-47ea-d511-43edf4ef651e"
      },
      "source": [
        "list(range(1,11))"
      ],
      "execution_count": null,
      "outputs": [
        {
          "output_type": "execute_result",
          "data": {
            "text/plain": [
              "[1, 2, 3, 4, 5, 6, 7, 8, 9, 10]"
            ]
          },
          "metadata": {
            "tags": []
          },
          "execution_count": 10
        }
      ]
    },
    {
      "cell_type": "markdown",
      "metadata": {
        "id": "8CaUXv0ydHwl"
      },
      "source": [
        ""
      ]
    },
    {
      "cell_type": "code",
      "metadata": {
        "id": "eVd_-qz2dNZe",
        "colab": {
          "base_uri": "https://localhost:8080/"
        },
        "outputId": "a6cfa0b5-ee38-4d14-d7d4-aeb64473b219"
      },
      "source": [
        "list(range(-3,20,4))"
      ],
      "execution_count": null,
      "outputs": [
        {
          "output_type": "execute_result",
          "data": {
            "text/plain": [
              "[-3, 1, 5, 9, 13, 17]"
            ]
          },
          "metadata": {
            "tags": []
          },
          "execution_count": 11
        }
      ]
    },
    {
      "cell_type": "markdown",
      "metadata": {
        "id": "DCdJVEhwdmf2"
      },
      "source": [
        "กสรทำลูปซ้อนลูป"
      ]
    },
    {
      "cell_type": "code",
      "metadata": {
        "id": "YajOAOavdzN_",
        "colab": {
          "base_uri": "https://localhost:8080/"
        },
        "outputId": "9ea8c302-cc14-4bb2-aecf-7cb7c5c3ccc1"
      },
      "source": [
        "for name1 in range(2,5) :\r\n",
        "  print(f'now name1 = {name1}')\r\n",
        "  for name2 in range(1,13) :\r\n",
        "    print(name1, 'x', name2,' = ',name1*name2)\r\n",
        "  print('the inner loop is end')"
      ],
      "execution_count": null,
      "outputs": [
        {
          "output_type": "stream",
          "text": [
            "now name1 = 2\n",
            "2 x 1  =  2\n",
            "2 x 2  =  4\n",
            "2 x 3  =  6\n",
            "2 x 4  =  8\n",
            "2 x 5  =  10\n",
            "2 x 6  =  12\n",
            "2 x 7  =  14\n",
            "2 x 8  =  16\n",
            "2 x 9  =  18\n",
            "2 x 10  =  20\n",
            "2 x 11  =  22\n",
            "2 x 12  =  24\n",
            "the inner loop is end\n",
            "now name1 = 3\n",
            "3 x 1  =  3\n",
            "3 x 2  =  6\n",
            "3 x 3  =  9\n",
            "3 x 4  =  12\n",
            "3 x 5  =  15\n",
            "3 x 6  =  18\n",
            "3 x 7  =  21\n",
            "3 x 8  =  24\n",
            "3 x 9  =  27\n",
            "3 x 10  =  30\n",
            "3 x 11  =  33\n",
            "3 x 12  =  36\n",
            "the inner loop is end\n",
            "now name1 = 4\n",
            "4 x 1  =  4\n",
            "4 x 2  =  8\n",
            "4 x 3  =  12\n",
            "4 x 4  =  16\n",
            "4 x 5  =  20\n",
            "4 x 6  =  24\n",
            "4 x 7  =  28\n",
            "4 x 8  =  32\n",
            "4 x 9  =  36\n",
            "4 x 10  =  40\n",
            "4 x 11  =  44\n",
            "4 x 12  =  48\n",
            "the inner loop is end\n"
          ],
          "name": "stdout"
        }
      ]
    },
    {
      "cell_type": "markdown",
      "metadata": {
        "id": "A4MC819Qfy1E"
      },
      "source": [
        "loop in function"
      ]
    },
    {
      "cell_type": "code",
      "metadata": {
        "id": "SyG58g_4f169"
      },
      "source": [
        "list_friend = ['พี่บูม','แตงโม','ฝน','พี่เจ็ท','น้องแคมป์']"
      ],
      "execution_count": null,
      "outputs": []
    },
    {
      "cell_type": "code",
      "metadata": {
        "id": "gD0celLJgQ8I"
      },
      "source": [
        "def print_feelings(I,friend,feeling = 'คิดถึง'):\r\n",
        "  for friend in friend :\r\n",
        "    print(f'{I} {feeling} {friend}')"
      ],
      "execution_count": null,
      "outputs": []
    },
    {
      "cell_type": "code",
      "metadata": {
        "id": "hQteuJW6gyNk",
        "colab": {
          "base_uri": "https://localhost:8080/"
        },
        "outputId": "e7dd21dc-6eaa-4262-c08e-a8eb3a2f8323"
      },
      "source": [
        "print_feelings('เจมส์',list_friend)"
      ],
      "execution_count": null,
      "outputs": [
        {
          "output_type": "stream",
          "text": [
            "เจมส์ คิดถึง พี่บูม\n",
            "เจมส์ คิดถึง แตงโม\n",
            "เจมส์ คิดถึง ฝน\n",
            "เจมส์ คิดถึง พี่เจ็ท\n",
            "เจมส์ คิดถึง น้องแคมป์\n"
          ],
          "name": "stdout"
        }
      ]
    },
    {
      "cell_type": "markdown",
      "metadata": {
        "id": "Cl7QaNNOlHJV"
      },
      "source": [
        "True/False"
      ]
    },
    {
      "cell_type": "markdown",
      "metadata": {
        "id": "hXStnSAxlMhI"
      },
      "source": [
        "การวนลูปโดยมีเงื่อนไขต่างๆ มาเกี่ยวข้อง โดยมีpattern ดังนี้"
      ]
    },
    {
      "cell_type": "markdown",
      "metadata": {
        "id": "JaqXFFqOlZX7"
      },
      "source": [
        ""
      ]
    },
    {
      "cell_type": "code",
      "metadata": {
        "id": "fVp9r3vllYZO",
        "colab": {
          "base_uri": "https://localhost:8080/"
        },
        "outputId": "b5d7df5f-968b-421b-ec37-392eed3dd2ac"
      },
      "source": [
        "for name1 in list_friend :\r\n",
        "  for name2 in list_friend :\r\n",
        "    print(name1, 'รัก',name2)"
      ],
      "execution_count": null,
      "outputs": [
        {
          "output_type": "stream",
          "text": [
            "พี่บูม รัก พี่บูม\n",
            "พี่บูม รัก แตงโม\n",
            "พี่บูม รัก ฝน\n",
            "พี่บูม รัก พี่เจ็ท\n",
            "พี่บูม รัก น้องแคมป์\n",
            "แตงโม รัก พี่บูม\n",
            "แตงโม รัก แตงโม\n",
            "แตงโม รัก ฝน\n",
            "แตงโม รัก พี่เจ็ท\n",
            "แตงโม รัก น้องแคมป์\n",
            "ฝน รัก พี่บูม\n",
            "ฝน รัก แตงโม\n",
            "ฝน รัก ฝน\n",
            "ฝน รัก พี่เจ็ท\n",
            "ฝน รัก น้องแคมป์\n",
            "พี่เจ็ท รัก พี่บูม\n",
            "พี่เจ็ท รัก แตงโม\n",
            "พี่เจ็ท รัก ฝน\n",
            "พี่เจ็ท รัก พี่เจ็ท\n",
            "พี่เจ็ท รัก น้องแคมป์\n",
            "น้องแคมป์ รัก พี่บูม\n",
            "น้องแคมป์ รัก แตงโม\n",
            "น้องแคมป์ รัก ฝน\n",
            "น้องแคมป์ รัก พี่เจ็ท\n",
            "น้องแคมป์ รัก น้องแคมป์\n"
          ],
          "name": "stdout"
        }
      ]
    },
    {
      "cell_type": "code",
      "metadata": {
        "id": "vEZUHDhClK-H",
        "colab": {
          "base_uri": "https://localhost:8080/"
        },
        "outputId": "2a1e37be-9a53-44a8-98f4-6ef5717bd54a"
      },
      "source": [
        "for name1 in list_friend :\r\n",
        "  for name2 in list_friend : \r\n",
        "    if name1 != name2 :#ปริ้นชื่อเดียวกันซ้ำ\r\n",
        "      print(name1, 'รัก',name2)"
      ],
      "execution_count": null,
      "outputs": [
        {
          "output_type": "stream",
          "text": [
            "พี่บูม รัก แตงโม\n",
            "พี่บูม รัก ฝน\n",
            "พี่บูม รัก พี่เจ็ท\n",
            "พี่บูม รัก น้องแคมป์\n",
            "แตงโม รัก พี่บูม\n",
            "แตงโม รัก ฝน\n",
            "แตงโม รัก พี่เจ็ท\n",
            "แตงโม รัก น้องแคมป์\n",
            "ฝน รัก พี่บูม\n",
            "ฝน รัก แตงโม\n",
            "ฝน รัก พี่เจ็ท\n",
            "ฝน รัก น้องแคมป์\n",
            "พี่เจ็ท รัก พี่บูม\n",
            "พี่เจ็ท รัก แตงโม\n",
            "พี่เจ็ท รัก ฝน\n",
            "พี่เจ็ท รัก น้องแคมป์\n",
            "น้องแคมป์ รัก พี่บูม\n",
            "น้องแคมป์ รัก แตงโม\n",
            "น้องแคมป์ รัก ฝน\n",
            "น้องแคมป์ รัก พี่เจ็ท\n"
          ],
          "name": "stdout"
        }
      ]
    },
    {
      "cell_type": "code",
      "metadata": {
        "id": "0f7t1_Esn8bW",
        "colab": {
          "base_uri": "https://localhost:8080/"
        },
        "outputId": "4fe7a5ad-26fa-4cba-dfa8-f4753499377f"
      },
      "source": [
        "'พี่บูม' != 'พี่เจ็ท'"
      ],
      "execution_count": null,
      "outputs": [
        {
          "output_type": "execute_result",
          "data": {
            "text/plain": [
              "True"
            ]
          },
          "metadata": {
            "tags": []
          },
          "execution_count": 34
        }
      ]
    },
    {
      "cell_type": "markdown",
      "metadata": {
        "id": "4i52PzQ0kUUu"
      },
      "source": [
        "##HW4"
      ]
    },
    {
      "cell_type": "markdown",
      "metadata": {
        "id": "uCqhzoZ2kbPN"
      },
      "source": [
        "เขียน function ตัดเกรด โดยที่ input เป็นคะแนน(0-100) , output เป็นเกรด (F-A)"
      ]
    },
    {
      "cell_type": "markdown",
      "metadata": {
        "id": "5VtbuTqjl-hX"
      },
      "source": [
        "วนลูปตัดเกรด input = [1,50,65,90,101,-5,49]"
      ]
    },
    {
      "cell_type": "code",
      "metadata": {
        "id": "T9yvnPsTkrJT"
      },
      "source": [
        "def grade (score):\r\n",
        "  if 0 <= score < 50 :\r\n",
        "    print(f'ได้คะแนนเท่ากับ {score} คะแนน เกรดจะเป็น F ' )\r\n",
        "  elif 50 <= score< 55:\r\n",
        "    print(f'ได้คะแนนเท่ากับ {score} คะแนน เกรดจะเป็น D ' )\r\n",
        "  elif 55 <= score< 60:\r\n",
        "    print(f'ได้คะแนนเท่ากับ {score} คะแนน เกรดจะเป็น D+ ' )\r\n",
        "  elif 60 <= score< 65:\r\n",
        "    print(f'ได้คะแนนเท่ากับ {score} คะแนน เกรดจะเป็น C' )\r\n",
        "  elif 65 <= score<70:\r\n",
        "    print(f'ได้คะแนนเท่ากับ {score} คะแนน เกรดจะเป็น C+' ) \r\n",
        "  elif 70 <= score<75:\r\n",
        "    print(f'ได้คะแนนเท่ากับ {score} คะแนน เกรดจะเป็น B  ' )  \r\n",
        "  elif 75 <= score<80:\r\n",
        "    print(f'ได้คะแนนเท่ากับ {score} คะแนน เกรดจะเป็น B+  ' )  \r\n",
        "  elif 80 <= score<100:\r\n",
        "    print(f'ได้คะแนนเท่ากับ {score} คะแนน เกรดจะเป็น A  ' )  \r\n",
        "  else:\r\n",
        "    print(f'ได้คะแนนเท่ากับ {score} คะแนน เกรดจะเป็น error ')"
      ],
      "execution_count": 15,
      "outputs": []
    },
    {
      "cell_type": "code",
      "metadata": {
        "id": "o_MfBHd3k1BH",
        "outputId": "5ff479a0-28bf-4eb2-fc69-0b641d61e820",
        "colab": {
          "base_uri": "https://localhost:8080/"
        }
      },
      "source": [
        "list_Grade = [1,50,65,90,101,-5,49]\r\n",
        "list_Grade"
      ],
      "execution_count": 18,
      "outputs": [
        {
          "output_type": "execute_result",
          "data": {
            "text/plain": [
              "[1, 50, 65, 90, 101, -5, 49]"
            ]
          },
          "metadata": {
            "tags": []
          },
          "execution_count": 18
        }
      ]
    },
    {
      "cell_type": "code",
      "metadata": {
        "id": "gf9IhvBRk6yt",
        "outputId": "6fceddfe-fc03-4cc9-a9b5-f3d4a42788af",
        "colab": {
          "base_uri": "https://localhost:8080/"
        }
      },
      "source": [
        "for i in list_Grade :\r\n",
        "    grade(i)"
      ],
      "execution_count": 20,
      "outputs": [
        {
          "output_type": "stream",
          "text": [
            "ได้คะแนนเท่ากับ 1 คะแนน เกรดจะเป็น F \n",
            "ได้คะแนนเท่ากับ 50 คะแนน เกรดจะเป็น D \n",
            "ได้คะแนนเท่ากับ 65 คะแนน เกรดจะเป็น C+\n",
            "ได้คะแนนเท่ากับ 90 คะแนน เกรดจะเป็น A  \n",
            "ได้คะแนนเท่ากับ 101 คะแนน เกรดจะเป็น error \n",
            "ได้คะแนนเท่ากับ -5 คะแนน เกรดจะเป็น error \n",
            "ได้คะแนนเท่ากับ 49 คะแนน เกรดจะเป็น F \n"
          ],
          "name": "stdout"
        }
      ]
    }
  ]
}