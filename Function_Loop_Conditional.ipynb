{
  "nbformat": 4,
  "nbformat_minor": 0,
  "metadata": {
    "colab": {
      "name": "Function_Loop_Conditional.ipynb",
      "provenance": [],
      "authorship_tag": "ABX9TyPovmE/IrBAUF/ZDP4Q+4a7",
      "include_colab_link": true
    },
    "kernelspec": {
      "name": "python3",
      "display_name": "Python 3"
    }
  },
  "cells": [
    {
      "cell_type": "markdown",
      "metadata": {
        "id": "view-in-github",
        "colab_type": "text"
      },
      "source": [
        "<a href=\"https://colab.research.google.com/github/MMoltira/data_viz/blob/main/Function_Loop_Conditional.ipynb\" target=\"_parent\"><img src=\"https://colab.research.google.com/assets/colab-badge.svg\" alt=\"Open In Colab\"/></a>"
      ]
    },
    {
      "cell_type": "markdown",
      "metadata": {
        "id": "swOZKc3phu2A"
      },
      "source": [
        "Function template"
      ]
    },
    {
      "cell_type": "markdown",
      "metadata": {
        "id": "QUU4QFi0h0p2"
      },
      "source": [
        "ทำหน้าที่นับอินพุท มาปนะมวณผลออกมาเป็นเอ้าพุท  f(x)=y"
      ]
    },
    {
      "cell_type": "markdown",
      "metadata": {
        "id": "ML5alG4EiCKQ"
      },
      "source": [
        "def คือการกำหนดฟังก์ชัน"
      ]
    },
    {
      "cell_type": "code",
      "metadata": {
        "id": "FMfuH0LEgOg5"
      },
      "source": [
        "def function_name(_Input_):\r\n",
        "  do_something with _Input_ to get _Output_\r\n",
        "  return _Output_"
      ],
      "execution_count": 1,
      "outputs": []
    },
    {
      "cell_type": "markdown",
      "metadata": {
        "id": "7Q59S3Anna2_"
      },
      "source": [
        "function มีส่วนสำคัญทั้งหมด 4 ส่วน\r\n",
        "1. บอก python ว่าเราจะเขียนฟังชันชื่ออะไร \r\n",
        "2. กำหนดตัวแปลที่จะเป็น input\r\n",
        "3. ส่วนประมวลผล\r\n",
        "4. ส่วนเอ้าพุท รีเทิร์น"
      ]
    },
    {
      "cell_type": "markdown",
      "metadata": {
        "id": "tqFU42c8q3xq"
      },
      "source": [
        "ฟังชันไม่จำเป็นต้องมีเอ้าพุท"
      ]
    },
    {
      "cell_type": "code",
      "metadata": {
        "id": "INLEN6GenUhy"
      },
      "source": [
        "def print_name(surname,ID,name):\r\n",
        "  st=f'ชื่อ {name} นามสกุล {surname} รหัส {ID}'\r\n",
        "  return st"
      ],
      "execution_count": 5,
      "outputs": []
    },
    {
      "cell_type": "code",
      "metadata": {
        "colab": {
          "base_uri": "https://localhost:8080/",
          "height": 33
        },
        "id": "c0CCMyProFsY",
        "outputId": "1b7e804f-a7d2-4a5b-b493-9815ce0e9d04"
      },
      "source": [
        "print_name('ใสสอน','613021019-9','มลทิรา')"
      ],
      "execution_count": 7,
      "outputs": [
        {
          "output_type": "execute_result",
          "data": {
            "application/vnd.google.colaboratory.intrinsic+json": {
              "type": "string"
            },
            "text/plain": [
              "'ชื่อ มลทิรา นามสกุล ใสสอน รหัส 613021019-9'"
            ]
          },
          "metadata": {
            "tags": []
          },
          "execution_count": 7
        }
      ]
    },
    {
      "cell_type": "markdown",
      "metadata": {
        "id": "3t4z61Vlqrzr"
      },
      "source": [
        "เราใช้เว้นวรรค เพื่อบอกขอบเขตของโปรแกรม"
      ]
    },
    {
      "cell_type": "markdown",
      "metadata": {
        "id": "0wOHW4qVrUAM"
      },
      "source": [
        "ฟังชันไม่จำเป็นต้องมี input"
      ]
    },
    {
      "cell_type": "code",
      "metadata": {
        "id": "QJ8S8xEIrIyA"
      },
      "source": [
        "def Pi():\r\n",
        "  return 3.14159265359"
      ],
      "execution_count": 8,
      "outputs": []
    },
    {
      "cell_type": "code",
      "metadata": {
        "colab": {
          "base_uri": "https://localhost:8080/"
        },
        "id": "7zA8o0AsrmAV",
        "outputId": "6afdc68c-159c-4159-d90c-77c8ccd90612"
      },
      "source": [
        "Pi()*(2**2) #หาพื้นที่ของวงกลมที่มีรัศมีเท่ากับ Pi * r^2 "
      ],
      "execution_count": 11,
      "outputs": [
        {
          "output_type": "execute_result",
          "data": {
            "text/plain": [
              "12.56637061436"
            ]
          },
          "metadata": {
            "tags": []
          },
          "execution_count": 11
        }
      ]
    },
    {
      "cell_type": "code",
      "metadata": {
        "id": "QHH_v-6KtP1S"
      },
      "source": [
        "def print_2line_defsult(name,surname,ID,grade) :\r\n",
        "  st1=f'ชื่อ {name} นามสกุล {surname} รหัส {ID}'\r\n",
        "  print (st1)\r\n",
        "  st2 = f'เกรดวิชา Data Viz >>> {grade}' # f 'เกรดวิชา Data Viz >>> {grade}'\r\n",
        "  print (st2)"
      ],
      "execution_count": 13,
      "outputs": []
    },
    {
      "cell_type": "code",
      "metadata": {
        "colab": {
          "base_uri": "https://localhost:8080/"
        },
        "id": "Ncfm6DUcxCT6",
        "outputId": "77aed4d4-0c32-4286-a539-19d4ad96ae17"
      },
      "source": [
        "print_2line_defsult('มลทิรา','ใสสอน','613021019-9','A')"
      ],
      "execution_count": 16,
      "outputs": [
        {
          "output_type": "stream",
          "text": [
            "ชื่อ มลทิรา นามสกุล ใสสอน รหัส 613021019-9\n",
            "เกรดวิชา Data Viz >>> A\n"
          ],
          "name": "stdout"
        }
      ]
    },
    {
      "cell_type": "markdown",
      "metadata": {
        "id": "k_eUMrPM1hrr"
      },
      "source": [
        "Loop การวนซ้ำ\r\n",
        " for เป็นคำที่ใช้บอก python ว่าเรากำลังเขียน loop โดย for"
      ]
    },
    {
      "cell_type": "code",
      "metadata": {
        "colab": {
          "base_uri": "https://localhost:8080/"
        },
        "id": "ldxn_yHP11db",
        "outputId": "f299781f-2dfc-4121-b9a7-955525340750"
      },
      "source": [
        "for i in [1,2,3]:\r\n",
        "  print (f'this member = {i} after process = {i**2}')"
      ],
      "execution_count": 17,
      "outputs": [
        {
          "output_type": "stream",
          "text": [
            "this member = 1 after process = 1\n",
            "this member = 2 after process = 4\n",
            "this member = 3 after process = 9\n"
          ],
          "name": "stdout"
        }
      ]
    },
    {
      "cell_type": "code",
      "metadata": {
        "colab": {
          "base_uri": "https://localhost:8080/"
        },
        "id": "N0_7zhsJ2T8T",
        "outputId": "994474e6-21cb-48db-aff3-e66995d8046f"
      },
      "source": [
        "for i in [1,2,3]:\r\n",
        "  o = i**2\r\n",
        "  print (f'this member = {i} after process = {o}')"
      ],
      "execution_count": 18,
      "outputs": [
        {
          "output_type": "stream",
          "text": [
            "this member = 1 after process = 1\n",
            "this member = 2 after process = 4\n",
            "this member = 3 after process = 9\n"
          ],
          "name": "stdout"
        }
      ]
    }
  ]
}